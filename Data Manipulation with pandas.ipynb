{
 "cells": [
  {
   "cell_type": "code",
   "execution_count": 57,
   "id": "8bc1cd6b-a2c6-4e78-934c-f9fda4ff38ae",
   "metadata": {},
   "outputs": [],
   "source": [
    "import pandas as pd\n",
    "import numpy as np\n",
    "import matplotlib.pyplot as plt"
   ]
  },
  {
   "cell_type": "code",
   "execution_count": 11,
   "id": "03488801-b17c-4cee-8151-b5e4bf1bac19",
   "metadata": {},
   "outputs": [],
   "source": [
    "data_frame = pd.read_csv(\"../../TECH/AZURE/HOUSING/data/realEstateTown2.csv\")"
   ]
  },
  {
   "cell_type": "markdown",
   "id": "7f5bf70b-bd2b-48d3-8c46-3e66eb15f5db",
   "metadata": {},
   "source": [
    "# Indexes"
   ]
  },
  {
   "cell_type": "markdown",
   "id": "ae86c920-40c7-4e2f-b446-4665847c043f",
   "metadata": {},
   "source": [
    "### creating and reseting indexes"
   ]
  },
  {
   "cell_type": "code",
   "execution_count": 13,
   "id": "db071233-1375-4a43-98b6-e28d97b1fff4",
   "metadata": {},
   "outputs": [
    {
     "name": "stdout",
     "output_type": "stream",
     "text": [
      "<class 'pandas.core.indexes.multi.MultiIndex'> ('Shoreline', '17052 4th Ave NE')\n",
      "<class 'pandas.core.indexes.base.Index'> Shoreline\n",
      "<class 'pandas.core.indexes.range.RangeIndex'> 33\n"
     ]
    }
   ],
   "source": [
    "data_frame.reset_index(inplace = True, drop = False)\n",
    "data_frame.set_index([\"city\", \"street\"], inplace = True)\n",
    "print(type(data_frame.index), data_frame.index[33])\n",
    "\n",
    "data_frame.reset_index(inplace = True, drop = False)\n",
    "data_frame.set_index(\"city\", inplace = True)\n",
    "print(type(data_frame.index), data_frame.index[33])\n",
    "\n",
    "data_frame.reset_index(inplace = True, drop = False)\n",
    "data_frame.index = range(len(data_frame))\n",
    "print(type(data_frame.index), data_frame.index[33])"
   ]
  },
  {
   "cell_type": "markdown",
   "id": "2d0cc892-5a80-4446-9cd2-2201ccb70913",
   "metadata": {},
   "source": [
    "### sorting indexes"
   ]
  },
  {
   "cell_type": "code",
   "execution_count": null,
   "id": "191bf48a-03fd-4965-a538-3bc8b0210bb5",
   "metadata": {},
   "outputs": [],
   "source": [
    "data_frame.sort_index(inplace = True, level = [\"bedrooms\"], ascending=[False])"
   ]
  },
  {
   "cell_type": "code",
   "execution_count": null,
   "id": "afcf6327-e4cc-4956-8bc4-32ea12c525d4",
   "metadata": {},
   "outputs": [],
   "source": [
    "data_frame.head(2)"
   ]
  },
  {
   "cell_type": "markdown",
   "id": "a76f51e3-901b-49c5-a77e-de3245e7903b",
   "metadata": {},
   "source": [
    "# DataFrame attributes"
   ]
  },
  {
   "cell_type": "code",
   "execution_count": null,
   "id": "b8ff7394-02ed-450f-b964-8cffec1a20cd",
   "metadata": {},
   "outputs": [],
   "source": [
    "print(\n",
    "    type(data_frame.index),\n",
    "    type(data_frame.columns),\n",
    "    type(data_frame.values)\n",
    ")"
   ]
  },
  {
   "cell_type": "markdown",
   "id": "ed799b6d-b4ad-454d-85f5-eee9fefdf1b5",
   "metadata": {},
   "source": [
    "# Plotting"
   ]
  },
  {
   "cell_type": "code",
   "execution_count": null,
   "id": "8acb8bf4-5127-4f7f-8481-0ace5d12ec32",
   "metadata": {},
   "outputs": [],
   "source": [
    "import matplotlib.pyplot as plt"
   ]
  },
  {
   "cell_type": "code",
   "execution_count": null,
   "id": "f61624bf-9b2f-4430-831a-f5f01ff3ebfd",
   "metadata": {},
   "outputs": [],
   "source": [
    "data_frame.head(2)"
   ]
  },
  {
   "cell_type": "code",
   "execution_count": null,
   "id": "7d773419-2d33-40f7-bec8-afb92dacb9b1",
   "metadata": {},
   "outputs": [],
   "source": [
    "city_mask = data_frame[\"city\"].isin([\"Seattle\", \"Kent\", \"Renton\"])\n",
    "bar_plot_data = data_frame[city_mask & bathrooms_mask][[\"city\", \"price\"]]\n",
    "bar_plot_data.groupby(\"city\")[\"price\"].max().plot(x = \"city\", y = \"price\", kind = \"bar\", figsize = (5,2))"
   ]
  },
  {
   "cell_type": "code",
   "execution_count": 24,
   "id": "4ea409bb-aa31-4bfa-9010-04beb62fb9c7",
   "metadata": {},
   "outputs": [],
   "source": [
    "data_frame[\"date\"] = data_frame[\"date\"].str.split(\" \")\n",
    "data_frame = data_frame[~data_frame[\"date\"].isna()]\n",
    "data_frame[\"date\"] = data_frame[\"date\"].str[0]\n",
    "data_frame[\"date\"] = data_frame[\"date\"].str.replace(\"-\", \"\")\n",
    "data_frame[\"date\"] = pd.to_datetime(data_frame[\"date\"] , format=\"%Y%m%d\")"
   ]
  },
  {
   "cell_type": "code",
   "execution_count": null,
   "id": "d90738cb-ac5e-467f-a268-9b5247e19e68",
   "metadata": {},
   "outputs": [],
   "source": [
    "line_plot_dateframe = data_frame[data_frame[\"date\"].between('2014-05-01', '2014-05-31')]\n",
    "seattle_line_plot_data = data_frame[data_frame[\"city\"] == \"Seattle\"][[\"price\",\"date\"]].sort_values(\"date\", ascending = True)\n",
    "newcastle_line_plot_data = data_frame[data_frame[\"city\"] == \"Newcastle\"][[\"price\",\"date\"]].sort_values(\"date\", ascending = True)\n",
    "plt.figure(figsize=(8, 4))\n",
    "plt.plot(seattle_line_plot_data[\"date\"], seattle_line_plot_data[\"price\"], label = \"seattle\")\n",
    "plt.plot(newcastle_line_plot_data[\"date\"], newcastle_line_plot_data[\"price\"], label = \"newcastle\")\n",
    "plt.legend()\n",
    "plt.show()"
   ]
  },
  {
   "cell_type": "code",
   "execution_count": 28,
   "id": "cfb41ba0-1dbe-471c-b1ba-4a2652f29aa1",
   "metadata": {},
   "outputs": [
    {
     "data": {
      "text/plain": [
       "<Axes: xlabel='sqft_living', ylabel='price'>"
      ]
     },
     "execution_count": 28,
     "metadata": {},
     "output_type": "execute_result"
    },
    {
     "data": {
      "image/png": "[encoded data removed]",
      "text/plain": [
       "<Figure size 500x300 with 1 Axes>"
      ]
     },
     "metadata": {},
     "output_type": "display_data"
    }
   ],
   "source": [
    "data_frame[[\"sqft_living\", \"price\"]].plot(kind = \"scatter\", x = \"sqft_living\", y = \"price\", figsize = (5,3))"
   ]
  },
  {
   "cell_type": "code",
   "execution_count": 30,
   "id": "cf7e0915-f2aa-456b-88dd-75b0f89b97e4",
   "metadata": {},
   "outputs": [
    {
     "data": {
      "text/plain": [
       "city    \n",
       "Seattle     1573\n",
       "Renton       293\n",
       "Bellevue     286\n",
       "Name: count, dtype: int64"
      ]
     },
     "execution_count": 30,
     "metadata": {},
     "output_type": "execute_result"
    }
   ],
   "source": [
    "data_frame[[\"city\"]].value_counts().head(3)"
   ]
  },
  {
   "cell_type": "code",
   "execution_count": null,
   "id": "bc08c499-682c-4a74-853f-e342781a66f5",
   "metadata": {},
   "outputs": [],
   "source": [
    "plt.figure(figsize=(5, 3))\n",
    "city_mask = data_frame[\"city\"].isin([\"Renton\", \"Bellevue\"])\n",
    "hist_data = data_frame[city_mask][[\"price\", \"city\"]]\n",
    "hist_data[hist_data[\"city\"] == \"Renton\"][\"price\"].hist(alpha = 0.5)\n",
    "hist_data[hist_data[\"city\"] == \"Bellevue\"][\"price\"].hist(alpha = 0.5)\n",
    "plt.legend([\"Renton\", \"Bellevue\"])"
   ]
  },
  {
   "cell_type": "code",
   "execution_count": 73,
   "id": "6ca8bfb9-4932-47bb-8a22-4772edffa018",
   "metadata": {},
   "outputs": [
    {
     "data": {
      "text/plain": [
       "array([[<Axes: title={'center': 'bedrooms'}>,\n",
       "        <Axes: title={'center': 'bathrooms'}>]], dtype=object)"
      ]
     },
     "execution_count": 73,
     "metadata": {},
     "output_type": "execute_result"
    },
    {
     "data": {
      "image/png": "[encoded data removed]",
      "text/plain": [
       "<Figure size 640x480 with 2 Axes>"
      ]
     },
     "metadata": {},
     "output_type": "display_data"
    }
   ],
   "source": [
    "df = data_frame[data_frame[\"city\"].isin([\"Seattle\", \"Renton\", \"Bellevue\"])][[\"city\", \"bedrooms\", \"bathrooms\"]]\n",
    "df.hist()"
   ]
  },
  {
   "cell_type": "markdown",
   "id": "b82917ec-1eef-4018-ae59-fe9081839934",
   "metadata": {},
   "source": [
    "# Aggregating"
   ]
  },
  {
   "cell_type": "markdown",
   "id": "169c70c9-4f56-4940-ba65-b662b5e3181f",
   "metadata": {},
   "source": [
    "### For groups - groupby()"
   ]
  },
  {
   "cell_type": "code",
   "execution_count": 540,
   "id": "063e5323-b625-451e-bfbe-f0066c5f4068",
   "metadata": {},
   "outputs": [
    {
     "data": {
      "text/plain": [
       "city    \n",
       "Seattle     1573\n",
       "Renton       293\n",
       "Bellevue     286\n",
       "Name: count, dtype: int64"
      ]
     },
     "execution_count": 540,
     "metadata": {},
     "output_type": "execute_result"
    }
   ],
   "source": [
    "data_frame[[\"city\"]].value_counts().head(3)"
   ]
  },
  {
   "cell_type": "code",
   "execution_count": 550,
   "id": "16fe1854-4430-40ba-84cf-244ebac2e644",
   "metadata": {},
   "outputs": [
    {
     "name": "stdout",
     "output_type": "stream",
     "text": [
      "579837.4672823235 207288.0 299340.44276556815\n"
     ]
    }
   ],
   "source": [
    "print(\n",
    "    data_frame[data_frame[\"city\"] == \"Seattle\"][\"price\"].mean(),\n",
    "    data_frame[data_frame[\"city\"] == \"Algona\"][\"price\"].mean(),\n",
    "    data_frame[data_frame[\"city\"] == \"Auburn\"][\"price\"].mean()\n",
    ")"
   ]
  },
  {
   "cell_type": "code",
   "execution_count": 544,
   "id": "8a6e6543-e6ff-467c-8deb-d345e8325039",
   "metadata": {},
   "outputs": [
    {
     "data": {
      "text/plain": [
       "city\n",
       "Algona                207288.000000\n",
       "Auburn                299340.442766\n",
       "Beaux Arts Village    745000.000000\n",
       "Name: price, dtype: float64"
      ]
     },
     "execution_count": 544,
     "metadata": {},
     "output_type": "execute_result"
    }
   ],
   "source": [
    "data_frame.groupby(\"city\")[\"price\"].mean().head(3)"
   ]
  },
  {
   "cell_type": "code",
   "execution_count": 554,
   "id": "81f5b490-0d2a-47a1-80ae-793376074409",
   "metadata": {},
   "outputs": [],
   "source": [
    "def top20pct(col):\n",
    "    return col.quantile(0.80)\n",
    "\n",
    "def bottom20pct(col):\n",
    "    return col.quantile(0.20)"
   ]
  },
  {
   "cell_type": "code",
   "execution_count": 558,
   "id": "9866f2f5-feab-4105-b699-dc0f5c71d877",
   "metadata": {},
   "outputs": [
    {
     "name": "stderr",
     "output_type": "stream",
     "text": [
      "C:\\Users\\zygmu\\AppData\\Local\\Temp\\ipykernel_19800\\3828612907.py:1: FutureWarning: The provided callable <function max at 0x0000016F131F44A0> is currently using SeriesGroupBy.max. In a future version of pandas, the provided callable will be used directly. To keep current behavior pass the string \"max\" instead.\n",
      "  data_frame.groupby([\"city\", \"street\"])[\"price\"].agg([top20pct, bottom20pct, np.max])\n"
     ]
    },
    {
     "data": {
      "text/html": [
       "<div>\n",
       "<style scoped>\n",
       "    .dataframe tbody tr th:only-of-type {\n",
       "        vertical-align: middle;\n",
       "    }\n",
       "\n",
       "    .dataframe tbody tr th {\n",
       "        vertical-align: top;\n",
       "    }\n",
       "\n",
       "    .dataframe thead th {\n",
       "        text-align: right;\n",
       "    }\n",
       "</style>\n",
       "<table border=\"1\" class=\"dataframe\">\n",
       "  <thead>\n",
       "    <tr style=\"text-align: right;\">\n",
       "      <th></th>\n",
       "      <th></th>\n",
       "      <th>top20pct</th>\n",
       "      <th>bottom20pct</th>\n",
       "      <th>max</th>\n",
       "    </tr>\n",
       "    <tr>\n",
       "      <th>city</th>\n",
       "      <th>street</th>\n",
       "      <th></th>\n",
       "      <th></th>\n",
       "      <th></th>\n",
       "    </tr>\n",
       "  </thead>\n",
       "  <tbody>\n",
       "    <tr>\n",
       "      <th rowspan=\"5\" valign=\"top\">Algona</th>\n",
       "      <th>130 Main St</th>\n",
       "      <td>196440.0</td>\n",
       "      <td>196440.0</td>\n",
       "      <td>196440.0</td>\n",
       "    </tr>\n",
       "    <tr>\n",
       "      <th>138 Seattle Blvd S</th>\n",
       "      <td>100000.0</td>\n",
       "      <td>100000.0</td>\n",
       "      <td>100000.0</td>\n",
       "    </tr>\n",
       "    <tr>\n",
       "      <th>322 9th Ave N</th>\n",
       "      <td>230000.0</td>\n",
       "      <td>230000.0</td>\n",
       "      <td>230000.0</td>\n",
       "    </tr>\n",
       "    <tr>\n",
       "      <th>429 Milwaukee Blvd S</th>\n",
       "      <td>248000.0</td>\n",
       "      <td>248000.0</td>\n",
       "      <td>248000.0</td>\n",
       "    </tr>\n",
       "    <tr>\n",
       "      <th>434 Pullman Ave</th>\n",
       "      <td>262000.0</td>\n",
       "      <td>262000.0</td>\n",
       "      <td>262000.0</td>\n",
       "    </tr>\n",
       "    <tr>\n",
       "      <th>...</th>\n",
       "      <th>...</th>\n",
       "      <td>...</td>\n",
       "      <td>...</td>\n",
       "      <td>...</td>\n",
       "    </tr>\n",
       "    <tr>\n",
       "      <th>Woodinville</th>\n",
       "      <th>Brooktrails Trail 14</th>\n",
       "      <td>400000.0</td>\n",
       "      <td>400000.0</td>\n",
       "      <td>400000.0</td>\n",
       "    </tr>\n",
       "    <tr>\n",
       "      <th rowspan=\"4\" valign=\"top\">Yarrow Point</th>\n",
       "      <th>4432 92nd Ave NE</th>\n",
       "      <td>899000.0</td>\n",
       "      <td>899000.0</td>\n",
       "      <td>899000.0</td>\n",
       "    </tr>\n",
       "    <tr>\n",
       "      <th>4612 92nd Ave NE</th>\n",
       "      <td>1901000.0</td>\n",
       "      <td>1901000.0</td>\n",
       "      <td>1901000.0</td>\n",
       "    </tr>\n",
       "    <tr>\n",
       "      <th>9033 NE 32nd St</th>\n",
       "      <td>84350.0</td>\n",
       "      <td>84350.0</td>\n",
       "      <td>84350.0</td>\n",
       "    </tr>\n",
       "    <tr>\n",
       "      <th>9045 NE 40th Pl</th>\n",
       "      <td>1895000.0</td>\n",
       "      <td>1895000.0</td>\n",
       "      <td>1895000.0</td>\n",
       "    </tr>\n",
       "  </tbody>\n",
       "</table>\n",
       "<p>4526 rows × 3 columns</p>\n",
       "</div>"
      ],
      "text/plain": [
       "                                    top20pct  bottom20pct        max\n",
       "city         street                                                 \n",
       "Algona       130 Main St            196440.0     196440.0   196440.0\n",
       "             138 Seattle Blvd S     100000.0     100000.0   100000.0\n",
       "             322 9th Ave N          230000.0     230000.0   230000.0\n",
       "             429 Milwaukee Blvd S   248000.0     248000.0   248000.0\n",
       "             434 Pullman Ave        262000.0     262000.0   262000.0\n",
       "...                                      ...          ...        ...\n",
       "Woodinville  Brooktrails Trail 14   400000.0     400000.0   400000.0\n",
       "Yarrow Point 4432 92nd Ave NE       899000.0     899000.0   899000.0\n",
       "             4612 92nd Ave NE      1901000.0    1901000.0  1901000.0\n",
       "             9033 NE 32nd St         84350.0      84350.0    84350.0\n",
       "             9045 NE 40th Pl       1895000.0    1895000.0  1895000.0\n",
       "\n",
       "[4526 rows x 3 columns]"
      ]
     },
     "execution_count": 558,
     "metadata": {},
     "output_type": "execute_result"
    }
   ],
   "source": [
    "data_frame.groupby([\"city\", \"street\"])[\"price\"].agg([top20pct, bottom20pct, np.max])"
   ]
  },
  {
   "cell_type": "code",
   "execution_count": 564,
   "id": "b0862f20-5247-4ca7-ba20-17799f8b3231",
   "metadata": {},
   "outputs": [
    {
     "name": "stderr",
     "output_type": "stream",
     "text": [
      "C:\\Users\\zygmu\\AppData\\Local\\Temp\\ipykernel_19800\\3727734401.py:1: FutureWarning: The provided callable <function max at 0x0000016F131F44A0> is currently using DataFrameGroupBy.max. In a future version of pandas, the provided callable will be used directly. To keep current behavior pass the string \"max\" instead.\n",
      "  data_frame.pivot_table(index = \"city\", columns = \"country\", values = \"price\", margins=True, fill_value=0, aggfunc=[np.max, top20pct]).head(3)\n",
      "C:\\Users\\zygmu\\AppData\\Local\\Temp\\ipykernel_19800\\3727734401.py:1: FutureWarning: The provided callable <function max at 0x0000016F131F44A0> is currently using DataFrameGroupBy.max. In a future version of pandas, the provided callable will be used directly. To keep current behavior pass the string \"max\" instead.\n",
      "  data_frame.pivot_table(index = \"city\", columns = \"country\", values = \"price\", margins=True, fill_value=0, aggfunc=[np.max, top20pct]).head(3)\n",
      "C:\\Users\\zygmu\\AppData\\Local\\Temp\\ipykernel_19800\\3727734401.py:1: FutureWarning: The provided callable <function max at 0x0000016F131F44A0> is currently using DataFrameGroupBy.max. In a future version of pandas, the provided callable will be used directly. To keep current behavior pass the string \"max\" instead.\n",
      "  data_frame.pivot_table(index = \"city\", columns = \"country\", values = \"price\", margins=True, fill_value=0, aggfunc=[np.max, top20pct]).head(3)\n"
     ]
    },
    {
     "data": {
      "text/html": [
       "<div>\n",
       "<style scoped>\n",
       "    .dataframe tbody tr th:only-of-type {\n",
       "        vertical-align: middle;\n",
       "    }\n",
       "\n",
       "    .dataframe tbody tr th {\n",
       "        vertical-align: top;\n",
       "    }\n",
       "\n",
       "    .dataframe thead tr th {\n",
       "        text-align: left;\n",
       "    }\n",
       "\n",
       "    .dataframe thead tr:last-of-type th {\n",
       "        text-align: right;\n",
       "    }\n",
       "</style>\n",
       "<table border=\"1\" class=\"dataframe\">\n",
       "  <thead>\n",
       "    <tr>\n",
       "      <th></th>\n",
       "      <th colspan=\"2\" halign=\"left\">max</th>\n",
       "      <th colspan=\"2\" halign=\"left\">top20pct</th>\n",
       "    </tr>\n",
       "    <tr>\n",
       "      <th>country</th>\n",
       "      <th>USA</th>\n",
       "      <th>All</th>\n",
       "      <th>USA</th>\n",
       "      <th>All</th>\n",
       "    </tr>\n",
       "    <tr>\n",
       "      <th>city</th>\n",
       "      <th></th>\n",
       "      <th></th>\n",
       "      <th></th>\n",
       "      <th></th>\n",
       "    </tr>\n",
       "  </thead>\n",
       "  <tbody>\n",
       "    <tr>\n",
       "      <th>Algona</th>\n",
       "      <td>262000.0</td>\n",
       "      <td>262000.0</td>\n",
       "      <td>250800.0</td>\n",
       "      <td>250800.0</td>\n",
       "    </tr>\n",
       "    <tr>\n",
       "      <th>Auburn</th>\n",
       "      <td>900000.0</td>\n",
       "      <td>900000.0</td>\n",
       "      <td>350000.0</td>\n",
       "      <td>350000.0</td>\n",
       "    </tr>\n",
       "    <tr>\n",
       "      <th>Beaux Arts Village</th>\n",
       "      <td>745000.0</td>\n",
       "      <td>745000.0</td>\n",
       "      <td>745000.0</td>\n",
       "      <td>745000.0</td>\n",
       "    </tr>\n",
       "  </tbody>\n",
       "</table>\n",
       "</div>"
      ],
      "text/plain": [
       "                         max            top20pct          \n",
       "country                  USA       All       USA       All\n",
       "city                                                      \n",
       "Algona              262000.0  262000.0  250800.0  250800.0\n",
       "Auburn              900000.0  900000.0  350000.0  350000.0\n",
       "Beaux Arts Village  745000.0  745000.0  745000.0  745000.0"
      ]
     },
     "execution_count": 564,
     "metadata": {},
     "output_type": "execute_result"
    }
   ],
   "source": [
    "data_frame.pivot_table(index = \"city\", columns = \"country\", values = \"price\", margins=True, fill_value=0, aggfunc=[np.max, top20pct]).head(3)"
   ]
  },
  {
   "cell_type": "markdown",
   "id": "be30c66b-1539-40ef-8144-2242865319f2",
   "metadata": {},
   "source": [
    "### Check whether margins = True contains means of means or means from dataset"
   ]
  },
  {
   "cell_type": "code",
   "execution_count": 582,
   "id": "b14ff4ae-f3b7-4ede-b3e3-1989c51a1dce",
   "metadata": {},
   "outputs": [
    {
     "name": "stderr",
     "output_type": "stream",
     "text": [
      "C:\\Users\\zygmu\\AppData\\Local\\Temp\\ipykernel_19800\\3350781841.py:2: SettingWithCopyWarning: \n",
      "A value is trying to be set on a copy of a slice from a DataFrame.\n",
      "Try using .loc[row_indexer,col_indexer] = value instead\n",
      "\n",
      "See the caveats in the documentation: https://pandas.pydata.org/pandas-docs/stable/user_guide/indexing.html#returning-a-view-versus-a-copy\n",
      "  data_frame_filtered[\"price mln\"] = data_frame_filtered[\"price\"] / 1000000\n"
     ]
    },
    {
     "data": {
      "text/plain": [
       "0.9900807142857143"
      ]
     },
     "execution_count": 582,
     "metadata": {},
     "output_type": "execute_result"
    }
   ],
   "source": [
    "data_frame_filtered = data_frame[(data_frame[\"city\"].isin([\"Seattle\", \"Kent\"]) ) & (data_frame[\"bathrooms\"].isin([1,2]))]\n",
    "data_frame_filtered[\"price mln\"] = data_frame_filtered[\"price\"] / 1000000\n",
    "data_frame_filtered_Kent_1 = data_frame_filtered[(data_frame_filtered[\"city\"] == \"Kent\") &\n",
    "(data_frame_filtered[\"bathrooms\"] == 1)][[\"city\", \"bathrooms\", \"price mln\"]]\n",
    "data_frame_filtered_Kent_2 = data_frame_filtered[(data_frame_filtered[\"city\"] == \"Kent\") & \n",
    "(data_frame_filtered[\"bathrooms\"] == 2)][[\"city\", \"bathrooms\", \"price mln\"]]\n",
    "dfA = data_frame_filtered_Kent_1[\"price mln\"]\n",
    "dfB = data_frame_filtered_Kent_2[\"price mln\"]\n",
    "df = pd.concat([dfA, dfB])\n",
    "df.mean()"
   ]
  },
  {
   "cell_type": "code",
   "execution_count": 588,
   "id": "57f43eb7-e922-4f2c-9f61-0a50187c5017",
   "metadata": {},
   "outputs": [
    {
     "data": {
      "text/plain": [
       "1.0646425"
      ]
     },
     "execution_count": 588,
     "metadata": {},
     "output_type": "execute_result"
    }
   ],
   "source": [
    "(0.194757 + 1.934528) / 2"
   ]
  },
  {
   "cell_type": "code",
   "execution_count": 594,
   "id": "3799a33a-c086-4fcd-8292-6c22a74009a8",
   "metadata": {},
   "outputs": [
    {
     "data": {
      "text/html": [
       "<div>\n",
       "<style scoped>\n",
       "    .dataframe tbody tr th:only-of-type {\n",
       "        vertical-align: middle;\n",
       "    }\n",
       "\n",
       "    .dataframe tbody tr th {\n",
       "        vertical-align: top;\n",
       "    }\n",
       "\n",
       "    .dataframe thead th {\n",
       "        text-align: right;\n",
       "    }\n",
       "</style>\n",
       "<table border=\"1\" class=\"dataframe\">\n",
       "  <thead>\n",
       "    <tr style=\"text-align: right;\">\n",
       "      <th>bathrooms</th>\n",
       "      <th>1.0</th>\n",
       "      <th>2.0</th>\n",
       "      <th>All</th>\n",
       "    </tr>\n",
       "    <tr>\n",
       "      <th>city</th>\n",
       "      <th></th>\n",
       "      <th></th>\n",
       "      <th></th>\n",
       "    </tr>\n",
       "  </thead>\n",
       "  <tbody>\n",
       "    <tr>\n",
       "      <th>Kent</th>\n",
       "      <td>0.194757</td>\n",
       "      <td>1.934528</td>\n",
       "      <td>0.990081</td>\n",
       "    </tr>\n",
       "    <tr>\n",
       "      <th>Seattle</th>\n",
       "      <td>0.383781</td>\n",
       "      <td>0.553051</td>\n",
       "      <td>0.435755</td>\n",
       "    </tr>\n",
       "    <tr>\n",
       "      <th>All</th>\n",
       "      <td>0.375467</td>\n",
       "      <td>0.664125</td>\n",
       "      <td>0.466502</td>\n",
       "    </tr>\n",
       "  </tbody>\n",
       "</table>\n",
       "</div>"
      ],
      "text/plain": [
       "bathrooms       1.0       2.0       All\n",
       "city                                   \n",
       "Kent       0.194757  1.934528  0.990081\n",
       "Seattle    0.383781  0.553051  0.435755\n",
       "All        0.375467  0.664125  0.466502"
      ]
     },
     "execution_count": 594,
     "metadata": {},
     "output_type": "execute_result"
    }
   ],
   "source": [
    "data_frame_filtered.pivot_table(index = \"city\", columns= \"bathrooms\", values = \"price mln\", margins= True)"
   ]
  },
  {
   "cell_type": "markdown",
   "id": "bf7acf1f-eb1f-4fcf-9a47-947e3ac9ef8e",
   "metadata": {},
   "source": [
    "### cumulative statistics"
   ]
  },
  {
   "cell_type": "code",
   "execution_count": 707,
   "id": "ab54a619-eb5d-483d-b0ab-c4d75a077cfd",
   "metadata": {},
   "outputs": [
    {
     "data": {
      "text/html": [
       "<div>\n",
       "<style scoped>\n",
       "    .dataframe tbody tr th:only-of-type {\n",
       "        vertical-align: middle;\n",
       "    }\n",
       "\n",
       "    .dataframe tbody tr th {\n",
       "        vertical-align: top;\n",
       "    }\n",
       "\n",
       "    .dataframe thead th {\n",
       "        text-align: right;\n",
       "    }\n",
       "</style>\n",
       "<table border=\"1\" class=\"dataframe\">\n",
       "  <thead>\n",
       "    <tr style=\"text-align: right;\">\n",
       "      <th></th>\n",
       "      <th>date</th>\n",
       "      <th>sqft_living</th>\n",
       "      <th>cumsum sqft</th>\n",
       "      <th>cummax sqft</th>\n",
       "    </tr>\n",
       "  </thead>\n",
       "  <tbody>\n",
       "    <tr>\n",
       "      <th>0</th>\n",
       "      <td>2014-05-02</td>\n",
       "      <td>1340</td>\n",
       "      <td>1340</td>\n",
       "      <td>1340</td>\n",
       "    </tr>\n",
       "    <tr>\n",
       "      <th>36</th>\n",
       "      <td>2014-05-02</td>\n",
       "      <td>800</td>\n",
       "      <td>2140</td>\n",
       "      <td>1340</td>\n",
       "    </tr>\n",
       "    <tr>\n",
       "      <th>37</th>\n",
       "      <td>2014-05-02</td>\n",
       "      <td>1850</td>\n",
       "      <td>3990</td>\n",
       "      <td>1850</td>\n",
       "    </tr>\n",
       "  </tbody>\n",
       "</table>\n",
       "</div>"
      ],
      "text/plain": [
       "         date  sqft_living  cumsum sqft  cummax sqft\n",
       "0  2014-05-02         1340         1340         1340\n",
       "36 2014-05-02          800         2140         1340\n",
       "37 2014-05-02         1850         3990         1850"
      ]
     },
     "execution_count": 707,
     "metadata": {},
     "output_type": "execute_result"
    }
   ],
   "source": [
    "data_frame.sort_values([\"date\"], inplace=True)\n",
    "data_frame[\"cumsum sqft\"] = data_frame[\"sqft_living\"].cumsum()\n",
    "data_frame[\"cummax sqft\"] = data_frame[\"sqft_living\"].cummax()\n",
    "data_frame[[\"date\", \"sqft_living\", \"cumsum sqft\", \"cummax sqft\"]].head(3)"
   ]
  },
  {
   "cell_type": "markdown",
   "id": "2c22aae5-0f76-4f79-9daa-4274ad9ca990",
   "metadata": {},
   "source": [
    "# Indexing / Subsettins"
   ]
  },
  {
   "cell_type": "code",
   "execution_count": 618,
   "id": "9996c922-a514-4607-a2ae-77ea686e0a24",
   "metadata": {},
   "outputs": [
    {
     "name": "stderr",
     "output_type": "stream",
     "text": [
      "C:\\Users\\zygmu\\AppData\\Local\\Temp\\ipykernel_19800\\4087119552.py:1: FutureWarning: The provided callable <function max at 0x0000016F131F44A0> is currently using SeriesGroupBy.max. In a future version of pandas, the provided callable will be used directly. To keep current behavior pass the string \"max\" instead.\n",
      "  grouped = data_frame.groupby([\"city\", \"street\"])[\"price\"].agg([np.max, np.min, np.mean])\n",
      "C:\\Users\\zygmu\\AppData\\Local\\Temp\\ipykernel_19800\\4087119552.py:1: FutureWarning: The provided callable <function min at 0x0000016F131F45E0> is currently using SeriesGroupBy.min. In a future version of pandas, the provided callable will be used directly. To keep current behavior pass the string \"min\" instead.\n",
      "  grouped = data_frame.groupby([\"city\", \"street\"])[\"price\"].agg([np.max, np.min, np.mean])\n",
      "C:\\Users\\zygmu\\AppData\\Local\\Temp\\ipykernel_19800\\4087119552.py:1: FutureWarning: The provided callable <function mean at 0x0000016F131F4EA0> is currently using SeriesGroupBy.mean. In a future version of pandas, the provided callable will be used directly. To keep current behavior pass the string \"mean\" instead.\n",
      "  grouped = data_frame.groupby([\"city\", \"street\"])[\"price\"].agg([np.max, np.min, np.mean])\n"
     ]
    },
    {
     "data": {
      "text/html": [
       "<div>\n",
       "<style scoped>\n",
       "    .dataframe tbody tr th:only-of-type {\n",
       "        vertical-align: middle;\n",
       "    }\n",
       "\n",
       "    .dataframe tbody tr th {\n",
       "        vertical-align: top;\n",
       "    }\n",
       "\n",
       "    .dataframe thead th {\n",
       "        text-align: right;\n",
       "    }\n",
       "</style>\n",
       "<table border=\"1\" class=\"dataframe\">\n",
       "  <thead>\n",
       "    <tr style=\"text-align: right;\">\n",
       "      <th></th>\n",
       "      <th></th>\n",
       "      <th>min</th>\n",
       "      <th>max</th>\n",
       "    </tr>\n",
       "    <tr>\n",
       "      <th>city</th>\n",
       "      <th>street</th>\n",
       "      <th></th>\n",
       "      <th></th>\n",
       "    </tr>\n",
       "  </thead>\n",
       "  <tbody>\n",
       "    <tr>\n",
       "      <th rowspan=\"3\" valign=\"top\">Algona</th>\n",
       "      <th>322 9th Ave N</th>\n",
       "      <td>230000.0</td>\n",
       "      <td>230000.0</td>\n",
       "    </tr>\n",
       "    <tr>\n",
       "      <th>429 Milwaukee Blvd S</th>\n",
       "      <td>248000.0</td>\n",
       "      <td>248000.0</td>\n",
       "    </tr>\n",
       "    <tr>\n",
       "      <th>434 Pullman Ave</th>\n",
       "      <td>262000.0</td>\n",
       "      <td>262000.0</td>\n",
       "    </tr>\n",
       "    <tr>\n",
       "      <th rowspan=\"2\" valign=\"top\">Auburn</th>\n",
       "      <th>1002 Pike St NE</th>\n",
       "      <td>232603.0</td>\n",
       "      <td>232603.0</td>\n",
       "    </tr>\n",
       "    <tr>\n",
       "      <th>10867-11003 SE 295th St</th>\n",
       "      <td>370000.0</td>\n",
       "      <td>370000.0</td>\n",
       "    </tr>\n",
       "  </tbody>\n",
       "</table>\n",
       "</div>"
      ],
      "text/plain": [
       "                                     min       max\n",
       "city   street                                     \n",
       "Algona 322 9th Ave N            230000.0  230000.0\n",
       "       429 Milwaukee Blvd S     248000.0  248000.0\n",
       "       434 Pullman Ave          262000.0  262000.0\n",
       "Auburn 1002 Pike St NE          232603.0  232603.0\n",
       "       10867-11003 SE 295th St  370000.0  370000.0"
      ]
     },
     "execution_count": 618,
     "metadata": {},
     "output_type": "execute_result"
    }
   ],
   "source": [
    "grouped = data_frame.groupby([\"city\", \"street\"])[\"price\"].agg([np.max, np.min, np.mean])\n",
    "grouped.loc[ (\"Algona\", \"322 9th Ave N\") : (\"Auburn\", \"10867-11003 SE 295th St\") , [\"min\", \"max\"]  ]"
   ]
  },
  {
   "cell_type": "code",
   "execution_count": 680,
   "id": "328a0282-2e2c-43b9-90db-62dcfcc43bf2",
   "metadata": {},
   "outputs": [
    {
     "name": "stderr",
     "output_type": "stream",
     "text": [
      "C:\\Users\\zygmu\\AppData\\Local\\Temp\\ipykernel_19800\\735385870.py:1: FutureWarning: The provided callable <function min at 0x0000016F131F45E0> is currently using DataFrameGroupBy.min. In a future version of pandas, the provided callable will be used directly. To keep current behavior pass the string \"min\" instead.\n",
      "  pivot = data_frame.pivot_table(index = \"street\", columns = \"floors\", values = \"price\", aggfunc=[np.min, np.max])\n",
      "C:\\Users\\zygmu\\AppData\\Local\\Temp\\ipykernel_19800\\735385870.py:1: FutureWarning: The provided callable <function max at 0x0000016F131F44A0> is currently using DataFrameGroupBy.max. In a future version of pandas, the provided callable will be used directly. To keep current behavior pass the string \"max\" instead.\n",
      "  pivot = data_frame.pivot_table(index = \"street\", columns = \"floors\", values = \"price\", aggfunc=[np.min, np.max])\n"
     ]
    },
    {
     "data": {
      "text/html": [
       "<div>\n",
       "<style scoped>\n",
       "    .dataframe tbody tr th:only-of-type {\n",
       "        vertical-align: middle;\n",
       "    }\n",
       "\n",
       "    .dataframe tbody tr th {\n",
       "        vertical-align: top;\n",
       "    }\n",
       "\n",
       "    .dataframe thead tr th {\n",
       "        text-align: left;\n",
       "    }\n",
       "\n",
       "    .dataframe thead tr:last-of-type th {\n",
       "        text-align: right;\n",
       "    }\n",
       "</style>\n",
       "<table border=\"1\" class=\"dataframe\">\n",
       "  <thead>\n",
       "    <tr>\n",
       "      <th></th>\n",
       "      <th colspan=\"2\" halign=\"left\">min</th>\n",
       "    </tr>\n",
       "    <tr>\n",
       "      <th>floors</th>\n",
       "      <th>1.0</th>\n",
       "      <th>2.0</th>\n",
       "    </tr>\n",
       "    <tr>\n",
       "      <th>street</th>\n",
       "      <th></th>\n",
       "      <th></th>\n",
       "    </tr>\n",
       "  </thead>\n",
       "  <tbody>\n",
       "    <tr>\n",
       "      <th>1 View Ln NE</th>\n",
       "      <td>NaN</td>\n",
       "      <td>309620.0</td>\n",
       "    </tr>\n",
       "    <tr>\n",
       "      <th>10 W Etruria St</th>\n",
       "      <td>NaN</td>\n",
       "      <td>NaN</td>\n",
       "    </tr>\n",
       "    <tr>\n",
       "      <th>100 20th Ave E</th>\n",
       "      <td>NaN</td>\n",
       "      <td>NaN</td>\n",
       "    </tr>\n",
       "    <tr>\n",
       "      <th>100 24th Ave E</th>\n",
       "      <td>NaN</td>\n",
       "      <td>460000.0</td>\n",
       "    </tr>\n",
       "  </tbody>\n",
       "</table>\n",
       "</div>"
      ],
      "text/plain": [
       "                min          \n",
       "floors          1.0       2.0\n",
       "street                       \n",
       "1 View Ln NE    NaN  309620.0\n",
       "10 W Etruria St NaN       NaN\n",
       "100 20th Ave E  NaN       NaN\n",
       "100 24th Ave E  NaN  460000.0"
      ]
     },
     "execution_count": 680,
     "metadata": {},
     "output_type": "execute_result"
    }
   ],
   "source": [
    "pivot = data_frame.pivot_table(index = \"street\", columns = \"floors\", values = \"price\", aggfunc=[np.min, np.max])\n",
    "pivot_subset = pivot.loc[  \"1 View Ln NE\" : \"100 24th Ave E\"  ,   (\"min\", [1.0, 2.0])]\n",
    "pivot_subset"
   ]
  },
  {
   "cell_type": "markdown",
   "id": "c66f11b7-e429-4560-98ef-45e13c9f9b40",
   "metadata": {},
   "source": [
    "### getting the margin values"
   ]
  },
  {
   "cell_type": "code",
   "execution_count": 678,
   "id": "917f0ae7-d996-43b5-aebe-8b94f0ed21e1",
   "metadata": {},
   "outputs": [
    {
     "data": {
      "text/plain": [
       "(     floors\n",
       " min  1.0            NaN\n",
       "      2.0       384810.0\n",
       " dtype: float64,\n",
       " street\n",
       " 1 View Ln NE       309620.0\n",
       " 10 W Etruria St         NaN\n",
       " 100 20th Ave E          NaN\n",
       " 100 24th Ave E     460000.0\n",
       " dtype: float64)"
      ]
     },
     "execution_count": 678,
     "metadata": {},
     "output_type": "execute_result"
    }
   ],
   "source": [
    "pivot_subset.mean(axis = \"index\"),pivot_subset.mean(axis = \"columns\")"
   ]
  },
  {
   "cell_type": "markdown",
   "id": "787213d7-9c7c-4c8c-be3d-6b68c022a9bc",
   "metadata": {},
   "source": [
    "### .loc[]"
   ]
  },
  {
   "cell_type": "code",
   "execution_count": 686,
   "id": "9a4afae9-e653-41f2-8322-145d6c86e6de",
   "metadata": {},
   "outputs": [
    {
     "data": {
      "text/html": [
       "<div>\n",
       "<style scoped>\n",
       "    .dataframe tbody tr th:only-of-type {\n",
       "        vertical-align: middle;\n",
       "    }\n",
       "\n",
       "    .dataframe tbody tr th {\n",
       "        vertical-align: top;\n",
       "    }\n",
       "\n",
       "    .dataframe thead th {\n",
       "        text-align: right;\n",
       "    }\n",
       "</style>\n",
       "<table border=\"1\" class=\"dataframe\">\n",
       "  <thead>\n",
       "    <tr style=\"text-align: right;\">\n",
       "      <th></th>\n",
       "      <th>price</th>\n",
       "      <th>view</th>\n",
       "    </tr>\n",
       "  </thead>\n",
       "  <tbody>\n",
       "    <tr>\n",
       "      <th>1</th>\n",
       "      <td>2384000.0</td>\n",
       "      <td>4</td>\n",
       "    </tr>\n",
       "    <tr>\n",
       "      <th>2</th>\n",
       "      <td>342000.0</td>\n",
       "      <td>0</td>\n",
       "    </tr>\n",
       "    <tr>\n",
       "      <th>3</th>\n",
       "      <td>420000.0</td>\n",
       "      <td>0</td>\n",
       "    </tr>\n",
       "    <tr>\n",
       "      <th>4</th>\n",
       "      <td>550000.0</td>\n",
       "      <td>0</td>\n",
       "    </tr>\n",
       "    <tr>\n",
       "      <th>5</th>\n",
       "      <td>490000.0</td>\n",
       "      <td>0</td>\n",
       "    </tr>\n",
       "  </tbody>\n",
       "</table>\n",
       "</div>"
      ],
      "text/plain": [
       "       price  view\n",
       "1  2384000.0     4\n",
       "2   342000.0     0\n",
       "3   420000.0     0\n",
       "4   550000.0     0\n",
       "5   490000.0     0"
      ]
     },
     "execution_count": 686,
     "metadata": {},
     "output_type": "execute_result"
    }
   ],
   "source": [
    "data_frame.loc[1:5, [\"price\", \"view\"]]"
   ]
  },
  {
   "cell_type": "markdown",
   "id": "c3eaced0-b622-4931-9822-640880d7025a",
   "metadata": {},
   "source": [
    "### .iloc[]"
   ]
  },
  {
   "cell_type": "markdown",
   "id": "85ef21ea-0416-47d9-8417-f4df207fab54",
   "metadata": {},
   "source": [
    "### masking"
   ]
  },
  {
   "cell_type": "code",
   "execution_count": 692,
   "id": "0eb7aad4-1b99-4e38-a79d-3d4ec330b955",
   "metadata": {},
   "outputs": [],
   "source": [
    "bathrooms_mask = ~(data_frame[\"bedrooms\"] > 3)\n",
    "bedrooms_mask = data_frame[\"bathrooms\"] > 3\n",
    "\n",
    "mask_and  = bedrooms_mask & bathrooms_mask\n",
    "mask_or  = bedrooms_mask | bathrooms_mask\n",
    "\n",
    "smaller_df = data_frame.loc[1:7, [\"bathrooms\", \"bedrooms\"]]"
   ]
  },
  {
   "cell_type": "code",
   "execution_count": 694,
   "id": "7645690f-d53e-4402-8947-d9a3d48a4d63",
   "metadata": {},
   "outputs": [
    {
     "data": {
      "text/html": [
       "<div>\n",
       "<style scoped>\n",
       "    .dataframe tbody tr th:only-of-type {\n",
       "        vertical-align: middle;\n",
       "    }\n",
       "\n",
       "    .dataframe tbody tr th {\n",
       "        vertical-align: top;\n",
       "    }\n",
       "\n",
       "    .dataframe thead th {\n",
       "        text-align: right;\n",
       "    }\n",
       "</style>\n",
       "<table border=\"1\" class=\"dataframe\">\n",
       "  <thead>\n",
       "    <tr style=\"text-align: right;\">\n",
       "      <th></th>\n",
       "      <th>bathrooms</th>\n",
       "      <th>bedrooms</th>\n",
       "    </tr>\n",
       "  </thead>\n",
       "  <tbody>\n",
       "    <tr>\n",
       "      <th>1</th>\n",
       "      <td>2.50</td>\n",
       "      <td>5.0</td>\n",
       "    </tr>\n",
       "    <tr>\n",
       "      <th>2</th>\n",
       "      <td>2.00</td>\n",
       "      <td>3.0</td>\n",
       "    </tr>\n",
       "    <tr>\n",
       "      <th>3</th>\n",
       "      <td>2.25</td>\n",
       "      <td>3.0</td>\n",
       "    </tr>\n",
       "    <tr>\n",
       "      <th>4</th>\n",
       "      <td>2.50</td>\n",
       "      <td>4.0</td>\n",
       "    </tr>\n",
       "    <tr>\n",
       "      <th>5</th>\n",
       "      <td>1.00</td>\n",
       "      <td>2.0</td>\n",
       "    </tr>\n",
       "    <tr>\n",
       "      <th>6</th>\n",
       "      <td>2.00</td>\n",
       "      <td>2.0</td>\n",
       "    </tr>\n",
       "    <tr>\n",
       "      <th>7</th>\n",
       "      <td>2.50</td>\n",
       "      <td>4.0</td>\n",
       "    </tr>\n",
       "  </tbody>\n",
       "</table>\n",
       "</div>"
      ],
      "text/plain": [
       "   bathrooms  bedrooms\n",
       "1       2.50       5.0\n",
       "2       2.00       3.0\n",
       "3       2.25       3.0\n",
       "4       2.50       4.0\n",
       "5       1.00       2.0\n",
       "6       2.00       2.0\n",
       "7       2.50       4.0"
      ]
     },
     "execution_count": 694,
     "metadata": {},
     "output_type": "execute_result"
    }
   ],
   "source": [
    "smaller_df"
   ]
  },
  {
   "cell_type": "markdown",
   "id": "1c1ad48a-0c06-461a-8214-cad69e1bf7b4",
   "metadata": {},
   "source": [
    "# Exploring DataFrame"
   ]
  },
  {
   "cell_type": "code",
   "execution_count": 18,
   "id": "2a6d4606-66cb-48df-8302-7c68cd4c78a4",
   "metadata": {},
   "outputs": [
    {
     "name": "stdout",
     "output_type": "stream",
     "text": [
      "<class 'pandas.core.frame.DataFrame'>\n",
      "RangeIndex: 4600 entries, 0 to 4599\n",
      "Data columns (total 18 columns):\n",
      " #   Column         Non-Null Count  Dtype  \n",
      "---  ------         --------------  -----  \n",
      " 0   date           2568 non-null   object \n",
      " 1   price          2568 non-null   float64\n",
      " 2   bedrooms       2568 non-null   float64\n",
      " 3   bathrooms      2568 non-null   float64\n",
      " 4   sqft_living    2568 non-null   float64\n",
      " 5   sqft_lot       2568 non-null   float64\n",
      " 6   floors         2568 non-null   float64\n",
      " 7   waterfront     2568 non-null   float64\n",
      " 8   view           2568 non-null   float64\n",
      " 9   condition      2568 non-null   float64\n",
      " 10  sqft_above     2568 non-null   float64\n",
      " 11  sqft_basement  2568 non-null   float64\n",
      " 12  yr_built       2568 non-null   float64\n",
      " 13  yr_renovated   2568 non-null   float64\n",
      " 14  street         2568 non-null   object \n",
      " 15  city           2568 non-null   object \n",
      " 16  statezip       2568 non-null   object \n",
      " 17  country        2568 non-null   object \n",
      "dtypes: float64(13), object(5)\n",
      "memory usage: 647.0+ KB\n"
     ]
    }
   ],
   "source": [
    "data_frame.info()"
   ]
  },
  {
   "cell_type": "code",
   "execution_count": 19,
   "id": "fddb1406-789f-47c2-93fd-b9461a9f9cc9",
   "metadata": {},
   "outputs": [
    {
     "data": {
      "text/plain": [
       "tuple"
      ]
     },
     "execution_count": 19,
     "metadata": {},
     "output_type": "execute_result"
    }
   ],
   "source": [
    "type(data_frame.shape)"
   ]
  },
  {
   "cell_type": "code",
   "execution_count": 20,
   "id": "591ada30-a6a5-406c-90f6-f67522adf54b",
   "metadata": {},
   "outputs": [
    {
     "data": {
      "text/html": [
       "<div>\n",
       "<style scoped>\n",
       "    .dataframe tbody tr th:only-of-type {\n",
       "        vertical-align: middle;\n",
       "    }\n",
       "\n",
       "    .dataframe tbody tr th {\n",
       "        vertical-align: top;\n",
       "    }\n",
       "\n",
       "    .dataframe thead th {\n",
       "        text-align: right;\n",
       "    }\n",
       "</style>\n",
       "<table border=\"1\" class=\"dataframe\">\n",
       "  <thead>\n",
       "    <tr style=\"text-align: right;\">\n",
       "      <th></th>\n",
       "      <th>date</th>\n",
       "      <th>price</th>\n",
       "      <th>bedrooms</th>\n",
       "      <th>bathrooms</th>\n",
       "      <th>sqft_living</th>\n",
       "      <th>sqft_lot</th>\n",
       "      <th>floors</th>\n",
       "      <th>waterfront</th>\n",
       "      <th>view</th>\n",
       "      <th>condition</th>\n",
       "      <th>sqft_above</th>\n",
       "      <th>sqft_basement</th>\n",
       "      <th>yr_built</th>\n",
       "      <th>yr_renovated</th>\n",
       "      <th>street</th>\n",
       "      <th>city</th>\n",
       "      <th>statezip</th>\n",
       "      <th>country</th>\n",
       "    </tr>\n",
       "  </thead>\n",
       "  <tbody>\n",
       "    <tr>\n",
       "      <th>0</th>\n",
       "      <td>NaN</td>\n",
       "      <td>NaN</td>\n",
       "      <td>NaN</td>\n",
       "      <td>NaN</td>\n",
       "      <td>NaN</td>\n",
       "      <td>NaN</td>\n",
       "      <td>NaN</td>\n",
       "      <td>NaN</td>\n",
       "      <td>NaN</td>\n",
       "      <td>NaN</td>\n",
       "      <td>NaN</td>\n",
       "      <td>NaN</td>\n",
       "      <td>NaN</td>\n",
       "      <td>NaN</td>\n",
       "      <td>NaN</td>\n",
       "      <td>NaN</td>\n",
       "      <td>NaN</td>\n",
       "      <td>NaN</td>\n",
       "    </tr>\n",
       "    <tr>\n",
       "      <th>1</th>\n",
       "      <td>2014-05-02 00:00:00</td>\n",
       "      <td>2384000.0</td>\n",
       "      <td>5.0</td>\n",
       "      <td>2.5</td>\n",
       "      <td>3650.0</td>\n",
       "      <td>9050.0</td>\n",
       "      <td>2.0</td>\n",
       "      <td>0.0</td>\n",
       "      <td>4.0</td>\n",
       "      <td>5.0</td>\n",
       "      <td>3370.0</td>\n",
       "      <td>280.0</td>\n",
       "      <td>1921.0</td>\n",
       "      <td>0.0</td>\n",
       "      <td>709 W Blaine St</td>\n",
       "      <td>Seattle</td>\n",
       "      <td>WA 98119</td>\n",
       "      <td>USA</td>\n",
       "    </tr>\n",
       "  </tbody>\n",
       "</table>\n",
       "</div>"
      ],
      "text/plain": [
       "                  date      price  bedrooms  bathrooms  sqft_living  sqft_lot  \\\n",
       "0                  NaN        NaN       NaN        NaN          NaN       NaN   \n",
       "1  2014-05-02 00:00:00  2384000.0       5.0        2.5       3650.0    9050.0   \n",
       "\n",
       "   floors  waterfront  view  condition  sqft_above  sqft_basement  yr_built  \\\n",
       "0     NaN         NaN   NaN        NaN         NaN            NaN       NaN   \n",
       "1     2.0         0.0   4.0        5.0      3370.0          280.0    1921.0   \n",
       "\n",
       "   yr_renovated           street     city  statezip country  \n",
       "0           NaN              NaN      NaN       NaN     NaN  \n",
       "1           0.0  709 W Blaine St  Seattle  WA 98119     USA  "
      ]
     },
     "execution_count": 20,
     "metadata": {},
     "output_type": "execute_result"
    }
   ],
   "source": [
    "data_frame.head(2)"
   ]
  },
  {
   "cell_type": "code",
   "execution_count": 21,
   "id": "86f1be84-3f11-4d78-a0a9-a426595fb5e3",
   "metadata": {},
   "outputs": [
    {
     "data": {
      "text/plain": [
       "2384000.0"
      ]
     },
     "execution_count": 21,
     "metadata": {},
     "output_type": "execute_result"
    }
   ],
   "source": [
    "data_frame.values[1][1]"
   ]
  },
  {
   "cell_type": "code",
   "execution_count": 23,
   "id": "301b9ecb-56b2-4dcb-98ab-14d7aa23d4c2",
   "metadata": {},
   "outputs": [
    {
     "data": {
      "text/plain": [
       "RangeIndex(start=0, stop=4600, step=1)"
      ]
     },
     "execution_count": 23,
     "metadata": {},
     "output_type": "execute_result"
    }
   ],
   "source": [
    "data_frame.index"
   ]
  },
  {
   "cell_type": "markdown",
   "id": "bc122d1a-f2fa-4f71-9afb-d25f000f297d",
   "metadata": {},
   "source": [
    "### applying aggregate functions on datetime column"
   ]
  },
  {
   "cell_type": "code",
   "execution_count": null,
   "id": "a00d24cc-d9d9-4f9c-ae47-30cd52151b67",
   "metadata": {},
   "outputs": [],
   "source": [
    "print(data_frame[\"date\"].min(),\"\\n\",data_frame[\"date\"].max(),\"\\n\",data_frame[\"date\"].mean(),\"\\n\",data_frame[\"date\"].std(), \"\\n\")"
   ]
  },
  {
   "cell_type": "markdown",
   "id": "25d85775-bf86-4044-99ae-da05cc1189c1",
   "metadata": {},
   "source": [
    "### applying aggregate functions on numerical column"
   ]
  },
  {
   "cell_type": "code",
   "execution_count": null,
   "id": "fee23797-f975-4bbe-b724-581700aa94f1",
   "metadata": {},
   "outputs": [],
   "source": [
    "print(data_frame[\"range\"].cummin(), data_frame[\"range\"].cummax(), data_frame[\"range\"].cumsum(), data_frame[\"range\"].cumprod())"
   ]
  },
  {
   "cell_type": "markdown",
   "id": "f4bd4006-a977-4350-990d-567e8b11474f",
   "metadata": {},
   "source": [
    "# Manipulating DataFrame"
   ]
  },
  {
   "cell_type": "markdown",
   "id": "a886ae7e-3eb9-4fac-8c50-0d633b7e39ee",
   "metadata": {},
   "source": [
    "### Creating DataFrame"
   ]
  },
  {
   "cell_type": "code",
   "execution_count": null,
   "id": "b14070c3-7355-4276-818b-29e21df90d84",
   "metadata": {},
   "outputs": [],
   "source": [
    "columns = [\"id\", \"category\", \"value\"]\n",
    "values = [\n",
    "    [1, \"A\", 125151],\n",
    "    [2, \"A\", 15151],\n",
    "    [3, \"B\", 4141],\n",
    "    [4, \"B\", 15151],\n",
    "]\n",
    "pd.DataFrame(values, columns=columns)"
   ]
  },
  {
   "cell_type": "code",
   "execution_count": null,
   "id": "5966e336-5dd3-4d85-9a04-58222433e04c",
   "metadata": {},
   "outputs": [],
   "source": [
    "columns = {\n",
    "    \"id\" : [1,2,3,4],\n",
    "    \"class\" : [\"A\", \"A\", \"B\", \"C\"],\n",
    "    \"value\" : [313141,5115151,51616161,616161]\n",
    "}\n",
    "pd.DataFrame(columns)"
   ]
  },
  {
   "cell_type": "code",
   "execution_count": null,
   "id": "61032351-c0ea-4f29-bf35-33e723c803c2",
   "metadata": {},
   "outputs": [],
   "source": [
    "rows = [\n",
    "    {\"id\" : 1, \"class\" : \"A\", \"value\" : 3131},\n",
    "    {\"id\" : 2, \"class\" : \"B\", \"value\" : 3511},\n",
    "    {\"id\" : 3, \"class\" : \"C\", \"value\" : 4141}\n",
    "]\n",
    "pd.DataFrame(rows)"
   ]
  },
  {
   "cell_type": "markdown",
   "id": "7bbb2b17-8717-4346-839e-3bca974e3342",
   "metadata": {},
   "source": [
    "### sorting"
   ]
  },
  {
   "cell_type": "code",
   "execution_count": 25,
   "id": "0bf8428c-44ca-4dd0-91f2-f32e22c569c7",
   "metadata": {},
   "outputs": [],
   "source": [
    "data_frame.sort_values([\"price\", \"yr_built\"], ascending=[False, True], inplace=True)"
   ]
  },
  {
   "cell_type": "markdown",
   "id": "b73e3eb2-e0ce-4579-a29f-b12217a76c80",
   "metadata": {},
   "source": [
    "### create derived columns"
   ]
  },
  {
   "cell_type": "code",
   "execution_count": 73,
   "id": "69b9cfdc-a6a9-4b08-8f79-f3dcdc7e3ef6",
   "metadata": {},
   "outputs": [],
   "source": [
    "data_frame[\"price mln\"]  = data_frame[[\"price\"]] / 1000000"
   ]
  },
  {
   "cell_type": "code",
   "execution_count": 97,
   "id": "874efb51-57fe-438a-9d54-cf711953df2d",
   "metadata": {},
   "outputs": [],
   "source": [
    "data_frame[\"address\"] = data_frame[\"street\"] + \"-\" +  data_frame[\"city\"] "
   ]
  },
  {
   "cell_type": "markdown",
   "id": "6c85a3be-07a6-41b6-9d8a-cf1e38585150",
   "metadata": {},
   "source": [
    "### dealing with Not a numbers"
   ]
  },
  {
   "cell_type": "markdown",
   "id": "762f76fd-3f67-4c82-9e02-f85c5953abfb",
   "metadata": {},
   "source": [
    "### replacing values"
   ]
  },
  {
   "cell_type": "markdown",
   "id": "57a7966a-723b-48aa-94bd-ecfb427e028c",
   "metadata": {},
   "source": [
    "### droping duplicates"
   ]
  },
  {
   "cell_type": "code",
   "execution_count": 366,
   "id": "19fe5144-de99-4c9b-bd39-51016b3d7555",
   "metadata": {},
   "outputs": [
    {
     "data": {
      "text/plain": [
       "(41, 25)"
      ]
     },
     "execution_count": 366,
     "metadata": {},
     "output_type": "execute_result"
    }
   ],
   "source": [
    "data_frame.drop_duplicates(\"city\").shape"
   ]
  },
  {
   "cell_type": "code",
   "execution_count": 710,
   "id": "013ac4ce-b721-40d7-9434-95d31e154abf",
   "metadata": {},
   "outputs": [
    {
     "data": {
      "text/html": [
       "<div>\n",
       "<style scoped>\n",
       "    .dataframe tbody tr th:only-of-type {\n",
       "        vertical-align: middle;\n",
       "    }\n",
       "\n",
       "    .dataframe tbody tr th {\n",
       "        vertical-align: top;\n",
       "    }\n",
       "\n",
       "    .dataframe thead th {\n",
       "        text-align: right;\n",
       "    }\n",
       "</style>\n",
       "<table border=\"1\" class=\"dataframe\">\n",
       "  <thead>\n",
       "    <tr style=\"text-align: right;\">\n",
       "      <th></th>\n",
       "      <th>date</th>\n",
       "      <th>price</th>\n",
       "      <th>bedrooms</th>\n",
       "      <th>bathrooms</th>\n",
       "      <th>sqft_living</th>\n",
       "      <th>sqft_lot</th>\n",
       "      <th>floors</th>\n",
       "      <th>waterfront</th>\n",
       "      <th>view</th>\n",
       "      <th>condition</th>\n",
       "      <th>sqft_above</th>\n",
       "      <th>sqft_basement</th>\n",
       "      <th>yr_built</th>\n",
       "      <th>yr_renovated</th>\n",
       "      <th>street</th>\n",
       "      <th>city</th>\n",
       "      <th>statezip</th>\n",
       "      <th>country</th>\n",
       "      <th>cumsum sqft</th>\n",
       "      <th>cummax sqft</th>\n",
       "    </tr>\n",
       "  </thead>\n",
       "  <tbody>\n",
       "    <tr>\n",
       "      <th>36</th>\n",
       "      <td>2014-05-02</td>\n",
       "      <td>440000.0</td>\n",
       "      <td>2.0</td>\n",
       "      <td>1.0</td>\n",
       "      <td>800</td>\n",
       "      <td>4850</td>\n",
       "      <td>1.0</td>\n",
       "      <td>0</td>\n",
       "      <td>0</td>\n",
       "      <td>4</td>\n",
       "      <td>800</td>\n",
       "      <td>0</td>\n",
       "      <td>1944</td>\n",
       "      <td>0</td>\n",
       "      <td>4801-4899 6th Ave NW</td>\n",
       "      <td>Seattle</td>\n",
       "      <td>WA 98107</td>\n",
       "      <td>USA</td>\n",
       "      <td>2140</td>\n",
       "      <td>1340</td>\n",
       "    </tr>\n",
       "    <tr>\n",
       "      <th>43</th>\n",
       "      <td>2014-05-02</td>\n",
       "      <td>439950.0</td>\n",
       "      <td>3.0</td>\n",
       "      <td>2.5</td>\n",
       "      <td>1770</td>\n",
       "      <td>2875</td>\n",
       "      <td>2.0</td>\n",
       "      <td>0</td>\n",
       "      <td>0</td>\n",
       "      <td>3</td>\n",
       "      <td>1770</td>\n",
       "      <td>0</td>\n",
       "      <td>1990</td>\n",
       "      <td>2009</td>\n",
       "      <td>4458 51st Ave SW</td>\n",
       "      <td>Seattle</td>\n",
       "      <td>WA 98116</td>\n",
       "      <td>USA</td>\n",
       "      <td>14020</td>\n",
       "      <td>2390</td>\n",
       "    </tr>\n",
       "    <tr>\n",
       "      <th>48</th>\n",
       "      <td>2014-05-02</td>\n",
       "      <td>445700.0</td>\n",
       "      <td>3.0</td>\n",
       "      <td>2.5</td>\n",
       "      <td>1270</td>\n",
       "      <td>1180</td>\n",
       "      <td>3.0</td>\n",
       "      <td>0</td>\n",
       "      <td>0</td>\n",
       "      <td>3</td>\n",
       "      <td>1270</td>\n",
       "      <td>0</td>\n",
       "      <td>2001</td>\n",
       "      <td>0</td>\n",
       "      <td>2640 NW 56th St</td>\n",
       "      <td>Seattle</td>\n",
       "      <td>WA 98107</td>\n",
       "      <td>USA</td>\n",
       "      <td>21560</td>\n",
       "      <td>2390</td>\n",
       "    </tr>\n",
       "  </tbody>\n",
       "</table>\n",
       "</div>"
      ],
      "text/plain": [
       "         date     price  bedrooms  bathrooms  sqft_living  sqft_lot  floors  \\\n",
       "36 2014-05-02  440000.0       2.0        1.0          800      4850     1.0   \n",
       "43 2014-05-02  439950.0       3.0        2.5         1770      2875     2.0   \n",
       "48 2014-05-02  445700.0       3.0        2.5         1270      1180     3.0   \n",
       "\n",
       "    waterfront  view  condition  sqft_above  sqft_basement  yr_built  \\\n",
       "36           0     0          4         800              0      1944   \n",
       "43           0     0          3        1770              0      1990   \n",
       "48           0     0          3        1270              0      2001   \n",
       "\n",
       "    yr_renovated                street     city  statezip country  \\\n",
       "36             0  4801-4899 6th Ave NW  Seattle  WA 98107     USA   \n",
       "43          2009      4458 51st Ave SW  Seattle  WA 98116     USA   \n",
       "48             0       2640 NW 56th St  Seattle  WA 98107     USA   \n",
       "\n",
       "    cumsum sqft  cummax sqft  \n",
       "36         2140         1340  \n",
       "43        14020         2390  \n",
       "48        21560         2390  "
      ]
     },
     "execution_count": 710,
     "metadata": {},
     "output_type": "execute_result"
    }
   ],
   "source": [
    "mask_city = data_frame[\"city\"] == \"Seattle\"\n",
    "data_frame[mask_city].drop_duplicates(subset = [\"city\",\"floors\"]).head(3)"
   ]
  },
  {
   "cell_type": "code",
   "execution_count": 17,
   "id": "69b22c61-7519-4ad2-8422-51b017232055",
   "metadata": {},
   "outputs": [
    {
     "data": {
      "text/plain": [
       "date             0\n",
       "price            0\n",
       "bedrooms         0\n",
       "bathrooms        0\n",
       "sqft_living      0\n",
       "sqft_lot         0\n",
       "floors           0\n",
       "waterfront       0\n",
       "view             0\n",
       "condition        0\n",
       "sqft_above       0\n",
       "sqft_basement    0\n",
       "yr_built         0\n",
       "yr_renovated     0\n",
       "street           0\n",
       "city             0\n",
       "statezip         0\n",
       "country          0\n",
       "dtype: int64"
      ]
     },
     "execution_count": 17,
     "metadata": {},
     "output_type": "execute_result"
    }
   ],
   "source": [
    "data_frame.isna().sum()"
   ]
  },
  {
   "cell_type": "code",
   "execution_count": 19,
   "id": "a11e9357-49d0-4d12-988a-7e1a748018af",
   "metadata": {},
   "outputs": [
    {
     "data": {
      "text/plain": [
       "date             False\n",
       "price            False\n",
       "bedrooms         False\n",
       "bathrooms        False\n",
       "sqft_living      False\n",
       "sqft_lot         False\n",
       "floors           False\n",
       "waterfront       False\n",
       "view             False\n",
       "condition        False\n",
       "sqft_above       False\n",
       "sqft_basement    False\n",
       "yr_built         False\n",
       "yr_renovated     False\n",
       "street           False\n",
       "city             False\n",
       "statezip         False\n",
       "country          False\n",
       "dtype: bool"
      ]
     },
     "execution_count": 19,
     "metadata": {},
     "output_type": "execute_result"
    }
   ],
   "source": [
    "data_frame.isna().any()"
   ]
  },
  {
   "cell_type": "code",
   "execution_count": 21,
   "id": "866e2fd4-e50e-4f8d-bf81-31f2b1f49dab",
   "metadata": {},
   "outputs": [],
   "source": [
    "na_df = pd.DataFrame({\n",
    "    \"index\": [i for i in range(8)],  \n",
    "    \"value\": [1, 2, 3, 4, np.nan, 7, 8, 9], \n",
    "    \"value-value\": [1, 2, 3, 4, 5, 6, 7, 8]\n",
    "})"
   ]
  },
  {
   "cell_type": "code",
   "execution_count": 25,
   "id": "8fb0e3a4-4579-4462-a4f5-2e0489afc0d8",
   "metadata": {},
   "outputs": [
    {
     "data": {
      "text/plain": [
       "index          False\n",
       "value           True\n",
       "value-value    False\n",
       "dtype: bool"
      ]
     },
     "execution_count": 25,
     "metadata": {},
     "output_type": "execute_result"
    }
   ],
   "source": [
    "na_df.isna().any()"
   ]
  },
  {
   "cell_type": "code",
   "execution_count": 39,
   "id": "8576a756-37be-45fc-b607-9bb55c5374c7",
   "metadata": {},
   "outputs": [
    {
     "data": {
      "text/html": [
       "<div>\n",
       "<style scoped>\n",
       "    .dataframe tbody tr th:only-of-type {\n",
       "        vertical-align: middle;\n",
       "    }\n",
       "\n",
       "    .dataframe tbody tr th {\n",
       "        vertical-align: top;\n",
       "    }\n",
       "\n",
       "    .dataframe thead th {\n",
       "        text-align: right;\n",
       "    }\n",
       "</style>\n",
       "<table border=\"1\" class=\"dataframe\">\n",
       "  <thead>\n",
       "    <tr style=\"text-align: right;\">\n",
       "      <th></th>\n",
       "      <th>index</th>\n",
       "      <th>value</th>\n",
       "      <th>value-value</th>\n",
       "    </tr>\n",
       "  </thead>\n",
       "  <tbody>\n",
       "    <tr>\n",
       "      <th>0</th>\n",
       "      <td>False</td>\n",
       "      <td>False</td>\n",
       "      <td>False</td>\n",
       "    </tr>\n",
       "    <tr>\n",
       "      <th>1</th>\n",
       "      <td>False</td>\n",
       "      <td>False</td>\n",
       "      <td>False</td>\n",
       "    </tr>\n",
       "    <tr>\n",
       "      <th>2</th>\n",
       "      <td>False</td>\n",
       "      <td>False</td>\n",
       "      <td>False</td>\n",
       "    </tr>\n",
       "    <tr>\n",
       "      <th>3</th>\n",
       "      <td>False</td>\n",
       "      <td>False</td>\n",
       "      <td>False</td>\n",
       "    </tr>\n",
       "    <tr>\n",
       "      <th>4</th>\n",
       "      <td>False</td>\n",
       "      <td>True</td>\n",
       "      <td>False</td>\n",
       "    </tr>\n",
       "    <tr>\n",
       "      <th>5</th>\n",
       "      <td>False</td>\n",
       "      <td>False</td>\n",
       "      <td>False</td>\n",
       "    </tr>\n",
       "    <tr>\n",
       "      <th>6</th>\n",
       "      <td>False</td>\n",
       "      <td>False</td>\n",
       "      <td>False</td>\n",
       "    </tr>\n",
       "    <tr>\n",
       "      <th>7</th>\n",
       "      <td>False</td>\n",
       "      <td>False</td>\n",
       "      <td>False</td>\n",
       "    </tr>\n",
       "  </tbody>\n",
       "</table>\n",
       "</div>"
      ],
      "text/plain": [
       "   index  value  value-value\n",
       "0  False  False        False\n",
       "1  False  False        False\n",
       "2  False  False        False\n",
       "3  False  False        False\n",
       "4  False   True        False\n",
       "5  False  False        False\n",
       "6  False  False        False\n",
       "7  False  False        False"
      ]
     },
     "execution_count": 39,
     "metadata": {},
     "output_type": "execute_result"
    }
   ],
   "source": [
    "na_df.isna()"
   ]
  },
  {
   "cell_type": "code",
   "execution_count": 27,
   "id": "fa424bca-efe9-4097-93cb-4edfb55f27c4",
   "metadata": {},
   "outputs": [
    {
     "data": {
      "text/plain": [
       "index          0\n",
       "value          1\n",
       "value-value    0\n",
       "dtype: int64"
      ]
     },
     "execution_count": 27,
     "metadata": {},
     "output_type": "execute_result"
    }
   ],
   "source": [
    "na_df.isna().sum()"
   ]
  },
  {
   "cell_type": "code",
   "execution_count": 29,
   "id": "62d7ca95-0093-4e12-8110-7d62606f7e63",
   "metadata": {},
   "outputs": [
    {
     "data": {
      "text/html": [
       "<div>\n",
       "<style scoped>\n",
       "    .dataframe tbody tr th:only-of-type {\n",
       "        vertical-align: middle;\n",
       "    }\n",
       "\n",
       "    .dataframe tbody tr th {\n",
       "        vertical-align: top;\n",
       "    }\n",
       "\n",
       "    .dataframe thead th {\n",
       "        text-align: right;\n",
       "    }\n",
       "</style>\n",
       "<table border=\"1\" class=\"dataframe\">\n",
       "  <thead>\n",
       "    <tr style=\"text-align: right;\">\n",
       "      <th></th>\n",
       "      <th>index</th>\n",
       "      <th>value</th>\n",
       "      <th>value-value</th>\n",
       "    </tr>\n",
       "  </thead>\n",
       "  <tbody>\n",
       "    <tr>\n",
       "      <th>0</th>\n",
       "      <td>0</td>\n",
       "      <td>1.0</td>\n",
       "      <td>1</td>\n",
       "    </tr>\n",
       "    <tr>\n",
       "      <th>1</th>\n",
       "      <td>1</td>\n",
       "      <td>2.0</td>\n",
       "      <td>2</td>\n",
       "    </tr>\n",
       "    <tr>\n",
       "      <th>2</th>\n",
       "      <td>2</td>\n",
       "      <td>3.0</td>\n",
       "      <td>3</td>\n",
       "    </tr>\n",
       "    <tr>\n",
       "      <th>3</th>\n",
       "      <td>3</td>\n",
       "      <td>4.0</td>\n",
       "      <td>4</td>\n",
       "    </tr>\n",
       "    <tr>\n",
       "      <th>4</th>\n",
       "      <td>4</td>\n",
       "      <td>-999.0</td>\n",
       "      <td>5</td>\n",
       "    </tr>\n",
       "    <tr>\n",
       "      <th>5</th>\n",
       "      <td>5</td>\n",
       "      <td>7.0</td>\n",
       "      <td>6</td>\n",
       "    </tr>\n",
       "    <tr>\n",
       "      <th>6</th>\n",
       "      <td>6</td>\n",
       "      <td>8.0</td>\n",
       "      <td>7</td>\n",
       "    </tr>\n",
       "    <tr>\n",
       "      <th>7</th>\n",
       "      <td>7</td>\n",
       "      <td>9.0</td>\n",
       "      <td>8</td>\n",
       "    </tr>\n",
       "  </tbody>\n",
       "</table>\n",
       "</div>"
      ],
      "text/plain": [
       "   index  value  value-value\n",
       "0      0    1.0            1\n",
       "1      1    2.0            2\n",
       "2      2    3.0            3\n",
       "3      3    4.0            4\n",
       "4      4 -999.0            5\n",
       "5      5    7.0            6\n",
       "6      6    8.0            7\n",
       "7      7    9.0            8"
      ]
     },
     "execution_count": 29,
     "metadata": {},
     "output_type": "execute_result"
    }
   ],
   "source": [
    "na_df.replace(np.nan, -999)"
   ]
  },
  {
   "cell_type": "code",
   "execution_count": 883,
   "id": "b7e47119-7cf3-481e-84ef-679716d21ec6",
   "metadata": {},
   "outputs": [
    {
     "data": {
      "text/html": [
       "<div>\n",
       "<style scoped>\n",
       "    .dataframe tbody tr th:only-of-type {\n",
       "        vertical-align: middle;\n",
       "    }\n",
       "\n",
       "    .dataframe tbody tr th {\n",
       "        vertical-align: top;\n",
       "    }\n",
       "\n",
       "    .dataframe thead th {\n",
       "        text-align: right;\n",
       "    }\n",
       "</style>\n",
       "<table border=\"1\" class=\"dataframe\">\n",
       "  <thead>\n",
       "    <tr style=\"text-align: right;\">\n",
       "      <th></th>\n",
       "      <th>index</th>\n",
       "      <th>value</th>\n",
       "      <th>value-value</th>\n",
       "    </tr>\n",
       "  </thead>\n",
       "  <tbody>\n",
       "    <tr>\n",
       "      <th>0</th>\n",
       "      <td>0</td>\n",
       "      <td>1.0</td>\n",
       "      <td>1</td>\n",
       "    </tr>\n",
       "    <tr>\n",
       "      <th>1</th>\n",
       "      <td>1</td>\n",
       "      <td>2.0</td>\n",
       "      <td>2</td>\n",
       "    </tr>\n",
       "    <tr>\n",
       "      <th>2</th>\n",
       "      <td>2</td>\n",
       "      <td>3.0</td>\n",
       "      <td>3</td>\n",
       "    </tr>\n",
       "    <tr>\n",
       "      <th>3</th>\n",
       "      <td>3</td>\n",
       "      <td>4.0</td>\n",
       "      <td>4</td>\n",
       "    </tr>\n",
       "    <tr>\n",
       "      <th>5</th>\n",
       "      <td>5</td>\n",
       "      <td>7.0</td>\n",
       "      <td>6</td>\n",
       "    </tr>\n",
       "    <tr>\n",
       "      <th>6</th>\n",
       "      <td>6</td>\n",
       "      <td>8.0</td>\n",
       "      <td>7</td>\n",
       "    </tr>\n",
       "    <tr>\n",
       "      <th>7</th>\n",
       "      <td>7</td>\n",
       "      <td>9.0</td>\n",
       "      <td>8</td>\n",
       "    </tr>\n",
       "  </tbody>\n",
       "</table>\n",
       "</div>"
      ],
      "text/plain": [
       "   index  value  value-value\n",
       "0      0    1.0            1\n",
       "1      1    2.0            2\n",
       "2      2    3.0            3\n",
       "3      3    4.0            4\n",
       "5      5    7.0            6\n",
       "6      6    8.0            7\n",
       "7      7    9.0            8"
      ]
     },
     "execution_count": 883,
     "metadata": {},
     "output_type": "execute_result"
    }
   ],
   "source": [
    "na_df.dropna()"
   ]
  },
  {
   "cell_type": "code",
   "execution_count": 33,
   "id": "2dbab392-2884-4d74-b233-ee089cc570c0",
   "metadata": {},
   "outputs": [
    {
     "data": {
      "text/html": [
       "<div>\n",
       "<style scoped>\n",
       "    .dataframe tbody tr th:only-of-type {\n",
       "        vertical-align: middle;\n",
       "    }\n",
       "\n",
       "    .dataframe tbody tr th {\n",
       "        vertical-align: top;\n",
       "    }\n",
       "\n",
       "    .dataframe thead th {\n",
       "        text-align: right;\n",
       "    }\n",
       "</style>\n",
       "<table border=\"1\" class=\"dataframe\">\n",
       "  <thead>\n",
       "    <tr style=\"text-align: right;\">\n",
       "      <th></th>\n",
       "      <th>index</th>\n",
       "      <th>value</th>\n",
       "      <th>value-value</th>\n",
       "    </tr>\n",
       "  </thead>\n",
       "  <tbody>\n",
       "    <tr>\n",
       "      <th>0</th>\n",
       "      <td>0</td>\n",
       "      <td>1.0</td>\n",
       "      <td>1</td>\n",
       "    </tr>\n",
       "    <tr>\n",
       "      <th>1</th>\n",
       "      <td>1</td>\n",
       "      <td>2.0</td>\n",
       "      <td>2</td>\n",
       "    </tr>\n",
       "    <tr>\n",
       "      <th>2</th>\n",
       "      <td>2</td>\n",
       "      <td>3.0</td>\n",
       "      <td>3</td>\n",
       "    </tr>\n",
       "    <tr>\n",
       "      <th>3</th>\n",
       "      <td>3</td>\n",
       "      <td>4.0</td>\n",
       "      <td>4</td>\n",
       "    </tr>\n",
       "    <tr>\n",
       "      <th>4</th>\n",
       "      <td>4</td>\n",
       "      <td>-999.0</td>\n",
       "      <td>5</td>\n",
       "    </tr>\n",
       "    <tr>\n",
       "      <th>5</th>\n",
       "      <td>5</td>\n",
       "      <td>7.0</td>\n",
       "      <td>6</td>\n",
       "    </tr>\n",
       "    <tr>\n",
       "      <th>6</th>\n",
       "      <td>6</td>\n",
       "      <td>8.0</td>\n",
       "      <td>7</td>\n",
       "    </tr>\n",
       "    <tr>\n",
       "      <th>7</th>\n",
       "      <td>7</td>\n",
       "      <td>9.0</td>\n",
       "      <td>8</td>\n",
       "    </tr>\n",
       "  </tbody>\n",
       "</table>\n",
       "</div>"
      ],
      "text/plain": [
       "   index  value  value-value\n",
       "0      0    1.0            1\n",
       "1      1    2.0            2\n",
       "2      2    3.0            3\n",
       "3      3    4.0            4\n",
       "4      4 -999.0            5\n",
       "5      5    7.0            6\n",
       "6      6    8.0            7\n",
       "7      7    9.0            8"
      ]
     },
     "execution_count": 33,
     "metadata": {},
     "output_type": "execute_result"
    }
   ],
   "source": [
    "na_df.fillna(-999)"
   ]
  },
  {
   "cell_type": "code",
   "execution_count": 13,
   "id": "ec94699f-49aa-45d9-9068-963b55c3364e",
   "metadata": {},
   "outputs": [
    {
     "data": {
      "text/plain": [
       "(4600, 18)"
      ]
     },
     "execution_count": 13,
     "metadata": {},
     "output_type": "execute_result"
    }
   ],
   "source": [
    "data_frame.shape"
   ]
  },
  {
   "cell_type": "code",
   "execution_count": 15,
   "id": "7ec9e364-1021-44b4-a901-05ff6f98b0d2",
   "metadata": {},
   "outputs": [
    {
     "data": {
      "text/html": [
       "<div>\n",
       "<style scoped>\n",
       "    .dataframe tbody tr th:only-of-type {\n",
       "        vertical-align: middle;\n",
       "    }\n",
       "\n",
       "    .dataframe tbody tr th {\n",
       "        vertical-align: top;\n",
       "    }\n",
       "\n",
       "    .dataframe thead th {\n",
       "        text-align: right;\n",
       "    }\n",
       "</style>\n",
       "<table border=\"1\" class=\"dataframe\">\n",
       "  <thead>\n",
       "    <tr style=\"text-align: right;\">\n",
       "      <th></th>\n",
       "      <th>date</th>\n",
       "      <th>price</th>\n",
       "      <th>bedrooms</th>\n",
       "      <th>bathrooms</th>\n",
       "      <th>sqft_living</th>\n",
       "      <th>sqft_lot</th>\n",
       "      <th>floors</th>\n",
       "      <th>waterfront</th>\n",
       "      <th>view</th>\n",
       "      <th>condition</th>\n",
       "      <th>sqft_above</th>\n",
       "      <th>sqft_basement</th>\n",
       "      <th>yr_built</th>\n",
       "      <th>yr_renovated</th>\n",
       "      <th>street</th>\n",
       "      <th>city</th>\n",
       "      <th>statezip</th>\n",
       "      <th>country</th>\n",
       "    </tr>\n",
       "  </thead>\n",
       "  <tbody>\n",
       "    <tr>\n",
       "      <th>0</th>\n",
       "      <td>2014-05-02 00:00:00</td>\n",
       "      <td>313000.0</td>\n",
       "      <td>3.0</td>\n",
       "      <td>1.5</td>\n",
       "      <td>1340</td>\n",
       "      <td>7912</td>\n",
       "      <td>1.5</td>\n",
       "      <td>0</td>\n",
       "      <td>0</td>\n",
       "      <td>3</td>\n",
       "      <td>1340</td>\n",
       "      <td>0</td>\n",
       "      <td>1955</td>\n",
       "      <td>2005</td>\n",
       "      <td>18810 Densmore Ave N</td>\n",
       "      <td>Shoreline</td>\n",
       "      <td>WA 98133</td>\n",
       "      <td>USA</td>\n",
       "    </tr>\n",
       "    <tr>\n",
       "      <th>1</th>\n",
       "      <td>2014-05-02 00:00:00</td>\n",
       "      <td>2384000.0</td>\n",
       "      <td>5.0</td>\n",
       "      <td>2.5</td>\n",
       "      <td>3650</td>\n",
       "      <td>9050</td>\n",
       "      <td>2.0</td>\n",
       "      <td>0</td>\n",
       "      <td>4</td>\n",
       "      <td>5</td>\n",
       "      <td>3370</td>\n",
       "      <td>280</td>\n",
       "      <td>1921</td>\n",
       "      <td>0</td>\n",
       "      <td>709 W Blaine St</td>\n",
       "      <td>Seattle</td>\n",
       "      <td>WA 98119</td>\n",
       "      <td>USA</td>\n",
       "    </tr>\n",
       "  </tbody>\n",
       "</table>\n",
       "</div>"
      ],
      "text/plain": [
       "                  date      price  bedrooms  bathrooms  sqft_living  sqft_lot  \\\n",
       "0  2014-05-02 00:00:00   313000.0       3.0        1.5         1340      7912   \n",
       "1  2014-05-02 00:00:00  2384000.0       5.0        2.5         3650      9050   \n",
       "\n",
       "   floors  waterfront  view  condition  sqft_above  sqft_basement  yr_built  \\\n",
       "0     1.5           0     0          3        1340              0      1955   \n",
       "1     2.0           0     4          5        3370            280      1921   \n",
       "\n",
       "   yr_renovated                street       city  statezip country  \n",
       "0          2005  18810 Densmore Ave N  Shoreline  WA 98133     USA  \n",
       "1             0       709 W Blaine St    Seattle  WA 98119     USA  "
      ]
     },
     "execution_count": 15,
     "metadata": {},
     "output_type": "execute_result"
    }
   ],
   "source": [
    "data_frame.head(2)"
   ]
  },
  {
   "cell_type": "code",
   "execution_count": 45,
   "id": "8a81fb6c-6e7a-4953-a0a8-ac846a3ad6c0",
   "metadata": {},
   "outputs": [
    {
     "data": {
      "text/plain": [
       "<Axes: >"
      ]
     },
     "execution_count": 45,
     "metadata": {},
     "output_type": "execute_result"
    },
    {
     "data": {
      "image/png": "[encoded data removed]",
      "text/plain": [
       "<Figure size 640x480 with 1 Axes>"
      ]
     },
     "metadata": {},
     "output_type": "display_data"
    }
   ],
   "source": [
    "data_frame.isna().sum().plot(kind = \"bar\")"
   ]
  },
  {
   "cell_type": "code",
   "execution_count": null,
   "id": "525d1480-d277-4d62-8216-90324790c5cb",
   "metadata": {},
   "outputs": [],
   "source": []
  }
 ],
 "metadata": {
  "kernelspec": {
   "display_name": "Python [conda env:base] *",
   "language": "python",
   "name": "conda-base-py"
  },
  "language_info": {
   "codemirror_mode": {
    "name": "ipython",
    "version": 3
   },
   "file_extension": ".py",
   "mimetype": "text/x-python",
   "name": "python",
   "nbconvert_exporter": "python",
   "pygments_lexer": "ipython3",
   "version": "3.12.7"
  }
 },
 "nbformat": 4,
 "nbformat_minor": 5
}
