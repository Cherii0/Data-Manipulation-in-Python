{
 "cells": [
  {
   "cell_type": "code",
   "execution_count": 36,
   "id": "5a44bf94-bf39-4a5e-bf8e-bafc7947819f",
   "metadata": {},
   "outputs": [
    {
     "data": {
      "text/plain": [
       "6864"
      ]
     },
     "execution_count": 36,
     "metadata": {},
     "output_type": "execute_result"
    }
   ],
   "source": [
    "import pandas as pd\n",
    "import numpy as np\n",
    "import warnings\n",
    "warnings.simplefilter(action=\"ignore\", category=Warning)\n",
    "import gc\n",
    "gc.collect()"
   ]
  },
  {
   "cell_type": "code",
   "execution_count": 38,
   "id": "8b1394c7-8b8d-47fc-9eae-0efe3d173618",
   "metadata": {},
   "outputs": [],
   "source": [
    "data_frame_copy19 = pd.read_csv(\"../PROJECTS/FIFA/players_19.csv\")\n",
    "data_frame_copy20 = pd.read_csv(\"../PROJECTS/FIFA/players_20.csv\")"
   ]
  },
  {
   "cell_type": "code",
   "execution_count": 39,
   "id": "675b2bcd-0e2c-4001-9975-2c0059d389ef",
   "metadata": {},
   "outputs": [
    {
     "data": {
      "text/html": [
       "<div>\n",
       "<style scoped>\n",
       "    .dataframe tbody tr th:only-of-type {\n",
       "        vertical-align: middle;\n",
       "    }\n",
       "\n",
       "    .dataframe tbody tr th {\n",
       "        vertical-align: top;\n",
       "    }\n",
       "\n",
       "    .dataframe thead th {\n",
       "        text-align: right;\n",
       "    }\n",
       "</style>\n",
       "<table border=\"1\" class=\"dataframe\">\n",
       "  <thead>\n",
       "    <tr style=\"text-align: right;\">\n",
       "      <th></th>\n",
       "      <th>sofifa_id</th>\n",
       "      <th>player_url</th>\n",
       "      <th>short_name</th>\n",
       "      <th>long_name</th>\n",
       "      <th>player_positions</th>\n",
       "      <th>overall</th>\n",
       "      <th>potential</th>\n",
       "      <th>value_eur</th>\n",
       "      <th>wage_eur</th>\n",
       "      <th>age</th>\n",
       "      <th>...</th>\n",
       "      <th>lcb</th>\n",
       "      <th>cb</th>\n",
       "      <th>rcb</th>\n",
       "      <th>rb</th>\n",
       "      <th>gk</th>\n",
       "      <th>player_face_url</th>\n",
       "      <th>club_logo_url</th>\n",
       "      <th>club_flag_url</th>\n",
       "      <th>nation_logo_url</th>\n",
       "      <th>nation_flag_url</th>\n",
       "    </tr>\n",
       "  </thead>\n",
       "  <tbody>\n",
       "    <tr>\n",
       "      <th>0</th>\n",
       "      <td>20801</td>\n",
       "      <td>https://sofifa.com/player/20801/c-ronaldo-dos-...</td>\n",
       "      <td>Cristiano Ronaldo</td>\n",
       "      <td>Cristiano Ronaldo dos Santos Aveiro</td>\n",
       "      <td>ST, LW</td>\n",
       "      <td>94</td>\n",
       "      <td>94</td>\n",
       "      <td>77000000.0</td>\n",
       "      <td>400000.0</td>\n",
       "      <td>33</td>\n",
       "      <td>...</td>\n",
       "      <td>54+4</td>\n",
       "      <td>54+4</td>\n",
       "      <td>54+4</td>\n",
       "      <td>61+4</td>\n",
       "      <td>20+4</td>\n",
       "      <td>https://cdn.sofifa.net/players/020/801/19_120.png</td>\n",
       "      <td>https://cdn.sofifa.net/teams/45/60.png</td>\n",
       "      <td>https://cdn.sofifa.net/flags/it.png</td>\n",
       "      <td>https://cdn.sofifa.net/teams/1354/60.png</td>\n",
       "      <td>https://cdn.sofifa.net/flags/pt.png</td>\n",
       "    </tr>\n",
       "  </tbody>\n",
       "</table>\n",
       "<p>1 rows × 110 columns</p>\n",
       "</div>"
      ],
      "text/plain": [
       "   sofifa_id                                         player_url  \\\n",
       "0      20801  https://sofifa.com/player/20801/c-ronaldo-dos-...   \n",
       "\n",
       "          short_name                            long_name player_positions  \\\n",
       "0  Cristiano Ronaldo  Cristiano Ronaldo dos Santos Aveiro           ST, LW   \n",
       "\n",
       "   overall  potential   value_eur  wage_eur  age  ...   lcb    cb   rcb    rb  \\\n",
       "0       94         94  77000000.0  400000.0   33  ...  54+4  54+4  54+4  61+4   \n",
       "\n",
       "     gk                                    player_face_url  \\\n",
       "0  20+4  https://cdn.sofifa.net/players/020/801/19_120.png   \n",
       "\n",
       "                            club_logo_url  \\\n",
       "0  https://cdn.sofifa.net/teams/45/60.png   \n",
       "\n",
       "                         club_flag_url  \\\n",
       "0  https://cdn.sofifa.net/flags/it.png   \n",
       "\n",
       "                            nation_logo_url  \\\n",
       "0  https://cdn.sofifa.net/teams/1354/60.png   \n",
       "\n",
       "                       nation_flag_url  \n",
       "0  https://cdn.sofifa.net/flags/pt.png  \n",
       "\n",
       "[1 rows x 110 columns]"
      ]
     },
     "execution_count": 39,
     "metadata": {},
     "output_type": "execute_result"
    }
   ],
   "source": [
    "data_frame19 = data_frame_copy19\n",
    "data_frame19.head(1)"
   ]
  },
  {
   "cell_type": "markdown",
   "id": "c9def78e-363c-4c0a-aed9-a9c67f6ea840",
   "metadata": {},
   "source": [
    "# Create long-wide and mixed dataframe formats"
   ]
  },
  {
   "cell_type": "code",
   "execution_count": 41,
   "id": "f8b56c89-fe53-452c-bdec-7d156a48d4c1",
   "metadata": {},
   "outputs": [],
   "source": [
    "data_frame = data_frame_copy19[[\"short_name\",\"nationality_name\", \"age\", \"club_name\"]]\n",
    "data_frame_mixed = data_frame.set_index(keys = [\"nationality_name\", \"short_name\"]).sort_index()\n",
    "wide_format = data_frame_mixed.loc[ [\"Poland\", \"Sweden\", \"Greece\"] , : ].sample(random_state = 22, n = 12).sort_index(ascending = False)\n",
    "wide_format.reset_index(level=\"nationality_name\", drop = False, inplace = True)"
   ]
  },
  {
   "cell_type": "code",
   "execution_count": 45,
   "id": "c4d697c0-880a-4539-889f-bc460818001b",
   "metadata": {},
   "outputs": [],
   "source": [
    "multiindex = [\"nationality_name\", \"short_name\", \"feature\"]\n",
    "long_format = pd.melt(\n",
    "    frame = data_frame_wide.reset_index(drop = False),\n",
    "    id_vars= multiindex[:-1],\n",
    "    value_vars = [\"age\", \"club_name\"],\n",
    "    var_name= \"feature\",\n",
    "    value_name=\"value\"\n",
    ").set_index(multiindex).sort_index(ascending = False)"
   ]
  },
  {
   "cell_type": "markdown",
   "id": "6b619515-319b-4f25-87e8-ed524c237e29",
   "metadata": {},
   "source": [
    "# Creating multiindex for rows, for columns and both"
   ]
  },
  {
   "cell_type": "code",
   "execution_count": 48,
   "id": "2b4506eb-2d24-421f-9a4b-e3a0553d94e4",
   "metadata": {},
   "outputs": [],
   "source": [
    "multilevel_columns = data_frame.sample(n = 5, random_state=21).set_index(multiindex[:-1]).transpose()"
   ]
  },
  {
   "cell_type": "code",
   "execution_count": 50,
   "id": "d06cdc2d-a8cf-4ab7-ae08-571c0f183a9a",
   "metadata": {},
   "outputs": [],
   "source": [
    "multilevel_rows = data_frame.sample(n = 5, random_state=21).set_index(multiindex[:-1])"
   ]
  },
  {
   "cell_type": "code",
   "execution_count": 52,
   "id": "2908c150-b1d4-485f-8bfb-b52a4466bab5",
   "metadata": {},
   "outputs": [],
   "source": [
    "multiindex.remove(\"feature\")\n",
    "multiindex.remove(\"short_name\")\n",
    "multiindex.extend([\"weight_kg\", \"height_cm\"])"
   ]
  },
  {
   "cell_type": "code",
   "execution_count": 54,
   "id": "758113e0-7267-4fe3-8de4-8c1398824065",
   "metadata": {},
   "outputs": [],
   "source": [
    "names1 = list(data_frame_copy19[\"short_name\"])\n",
    "names2 = list(data_frame_copy20[\"short_name\"])\n",
    "names = list(set(names1) & set(names2))[:5]"
   ]
  },
  {
   "cell_type": "code",
   "execution_count": 56,
   "id": "38b639a0-7641-477b-9b7b-45106db21dab",
   "metadata": {},
   "outputs": [],
   "source": [
    "temp1 = data_frame_copy19.set_index(\"short_name\").loc[names, multiindex ]\n",
    "temp2 = data_frame_copy20.set_index(\"short_name\").loc[names, multiindex ]\n",
    "temp1[\"year\"], temp2[\"year\"] = 2019, 2020"
   ]
  },
  {
   "cell_type": "code",
   "execution_count": 58,
   "id": "5fc5425d-f5da-40b8-86e8-dab51e1d7884",
   "metadata": {},
   "outputs": [],
   "source": [
    "multilevel_rows_cols = pd.concat(axis=0, objs=[temp1, temp2]).reset_index(drop = False)"
   ]
  },
  {
   "cell_type": "code",
   "execution_count": 60,
   "id": "3f2a905c-57a8-4e38-9c65-46c7dcf42dce",
   "metadata": {},
   "outputs": [],
   "source": [
    "multilevel_rows_cols = pd.DataFrame(multilevel_rows_cols.set_index(keys = [\"nationality_name\", \"short_name\", \"year\"]).sort_index().unstack())"
   ]
  },
  {
   "cell_type": "code",
   "execution_count": 79,
   "id": "dac58d1a-d493-4152-8a12-4cb2c39b1f8e",
   "metadata": {},
   "outputs": [],
   "source": [
    "default_range_idx = data_frame_copy19.loc[ : , multiindex].head(5)"
   ]
  },
  {
   "cell_type": "markdown",
   "id": "e06a71de-1d4c-43a9-ac72-ace8adada836",
   "metadata": {},
   "source": [
    "# Results - at this point we have all possible DataFrame shapes (5)\n",
    "* The shapes are :\n",
    "singlelevel rows and cols, multilevel rows and cols, singlelevel rows and multilevel cols, multilevel rows and singlelevel cols, no row index + single level cols\n",
    "\n",
    "\n",
    "* Long format (one row one observation all attr in separated row index or column - feature)\n",
    "    * singlelevel cols + singlelevel rows\n",
    "    * single cols + multilevel rows\n",
    "    * without rows index\n",
    "* Wide format (one row one entity with all attr in one row)\n",
    "    * singlelevel rows + singlelevel cols\n",
    "    * singlelevel rows + multilevel cols\n",
    "    * without rows index\n",
    "* Multilevel format\n",
    "    * multilevel cols and rows\n",
    "    * multilevel cols + single rows (considered also as wide format)\n",
    "    * multilevel rows + single cols (considered also as long format)"
   ]
  },
  {
   "cell_type": "code",
   "execution_count": 63,
   "id": "7af05fb5-71af-4a29-9d19-9add8b9ef3ad",
   "metadata": {},
   "outputs": [
    {
     "data": {
      "text/html": [
       "<div>\n",
       "<style scoped>\n",
       "    .dataframe tbody tr th:only-of-type {\n",
       "        vertical-align: middle;\n",
       "    }\n",
       "\n",
       "    .dataframe tbody tr th {\n",
       "        vertical-align: top;\n",
       "    }\n",
       "\n",
       "    .dataframe thead th {\n",
       "        text-align: right;\n",
       "    }\n",
       "</style>\n",
       "<table border=\"1\" class=\"dataframe\">\n",
       "  <thead>\n",
       "    <tr style=\"text-align: right;\">\n",
       "      <th></th>\n",
       "      <th>nationality_name</th>\n",
       "      <th>age</th>\n",
       "      <th>club_name</th>\n",
       "    </tr>\n",
       "    <tr>\n",
       "      <th>short_name</th>\n",
       "      <th></th>\n",
       "      <th></th>\n",
       "      <th></th>\n",
       "    </tr>\n",
       "  </thead>\n",
       "  <tbody>\n",
       "    <tr>\n",
       "      <th>H. Andersson</th>\n",
       "      <td>Sweden</td>\n",
       "      <td>19</td>\n",
       "      <td>Trelleborgs FF</td>\n",
       "    </tr>\n",
       "    <tr>\n",
       "      <th>D. Boo Wiklander</th>\n",
       "      <td>Sweden</td>\n",
       "      <td>33</td>\n",
       "      <td>IFK Göteborg</td>\n",
       "    </tr>\n",
       "    <tr>\n",
       "      <th>A. Erlingmark</th>\n",
       "      <td>Sweden</td>\n",
       "      <td>20</td>\n",
       "      <td>IFK Göteborg</td>\n",
       "    </tr>\n",
       "  </tbody>\n",
       "</table>\n",
       "</div>"
      ],
      "text/plain": [
       "                 nationality_name  age       club_name\n",
       "short_name                                            \n",
       "H. Andersson               Sweden   19  Trelleborgs FF\n",
       "D. Boo Wiklander           Sweden   33    IFK Göteborg\n",
       "A. Erlingmark              Sweden   20    IFK Göteborg"
      ]
     },
     "execution_count": 63,
     "metadata": {},
     "output_type": "execute_result"
    }
   ],
   "source": [
    "wide_format.head(3)"
   ]
  },
  {
   "cell_type": "code",
   "execution_count": 65,
   "id": "09c03889-ea72-429e-ae8b-543fe6d7f0f5",
   "metadata": {},
   "outputs": [
    {
     "data": {
      "text/html": [
       "<div>\n",
       "<style scoped>\n",
       "    .dataframe tbody tr th:only-of-type {\n",
       "        vertical-align: middle;\n",
       "    }\n",
       "\n",
       "    .dataframe tbody tr th {\n",
       "        vertical-align: top;\n",
       "    }\n",
       "\n",
       "    .dataframe thead th {\n",
       "        text-align: right;\n",
       "    }\n",
       "</style>\n",
       "<table border=\"1\" class=\"dataframe\">\n",
       "  <thead>\n",
       "    <tr style=\"text-align: right;\">\n",
       "      <th></th>\n",
       "      <th></th>\n",
       "      <th></th>\n",
       "      <th>value</th>\n",
       "    </tr>\n",
       "    <tr>\n",
       "      <th>nationality_name</th>\n",
       "      <th>short_name</th>\n",
       "      <th>feature</th>\n",
       "      <th></th>\n",
       "    </tr>\n",
       "  </thead>\n",
       "  <tbody>\n",
       "    <tr>\n",
       "      <th rowspan=\"3\" valign=\"top\">Sweden</th>\n",
       "      <th rowspan=\"2\" valign=\"top\">H. Andersson</th>\n",
       "      <th>club_name</th>\n",
       "      <td>Trelleborgs FF</td>\n",
       "    </tr>\n",
       "    <tr>\n",
       "      <th>age</th>\n",
       "      <td>19</td>\n",
       "    </tr>\n",
       "    <tr>\n",
       "      <th>D. Boo Wiklander</th>\n",
       "      <th>club_name</th>\n",
       "      <td>IFK Göteborg</td>\n",
       "    </tr>\n",
       "  </tbody>\n",
       "</table>\n",
       "</div>"
      ],
      "text/plain": [
       "                                                      value\n",
       "nationality_name short_name       feature                  \n",
       "Sweden           H. Andersson     club_name  Trelleborgs FF\n",
       "                                  age                    19\n",
       "                 D. Boo Wiklander club_name    IFK Göteborg"
      ]
     },
     "execution_count": 65,
     "metadata": {},
     "output_type": "execute_result"
    }
   ],
   "source": [
    "long_format.head(3)"
   ]
  },
  {
   "cell_type": "code",
   "execution_count": 67,
   "id": "44202fdc-4d10-4c29-ae4b-fa478455cae1",
   "metadata": {},
   "outputs": [
    {
     "data": {
      "text/html": [
       "<div>\n",
       "<style scoped>\n",
       "    .dataframe tbody tr th:only-of-type {\n",
       "        vertical-align: middle;\n",
       "    }\n",
       "\n",
       "    .dataframe tbody tr th {\n",
       "        vertical-align: top;\n",
       "    }\n",
       "\n",
       "    .dataframe thead tr th {\n",
       "        text-align: left;\n",
       "    }\n",
       "</style>\n",
       "<table border=\"1\" class=\"dataframe\">\n",
       "  <thead>\n",
       "    <tr>\n",
       "      <th>nationality_name</th>\n",
       "      <th>Italy</th>\n",
       "      <th>Chile</th>\n",
       "      <th>Saudi Arabia</th>\n",
       "      <th>France</th>\n",
       "      <th>Portugal</th>\n",
       "    </tr>\n",
       "    <tr>\n",
       "      <th>short_name</th>\n",
       "      <th>L. Scaglia</th>\n",
       "      <th>F. Manzano</th>\n",
       "      <th>M. Salem</th>\n",
       "      <th>N. Diallo</th>\n",
       "      <th>Bruno Varela</th>\n",
       "    </tr>\n",
       "  </thead>\n",
       "  <tbody>\n",
       "    <tr>\n",
       "      <th>age</th>\n",
       "      <td>31</td>\n",
       "      <td>24</td>\n",
       "      <td>32</td>\n",
       "      <td>22</td>\n",
       "      <td>23</td>\n",
       "    </tr>\n",
       "    <tr>\n",
       "      <th>club_name</th>\n",
       "      <td>Parma</td>\n",
       "      <td>Club Deportivo Palestino</td>\n",
       "      <td>Al Shabab</td>\n",
       "      <td>Stade Rennais FC</td>\n",
       "      <td>SL Benfica</td>\n",
       "    </tr>\n",
       "  </tbody>\n",
       "</table>\n",
       "</div>"
      ],
      "text/plain": [
       "nationality_name      Italy                     Chile Saudi Arabia  \\\n",
       "short_name       L. Scaglia                F. Manzano     M. Salem   \n",
       "age                      31                        24           32   \n",
       "club_name             Parma  Club Deportivo Palestino    Al Shabab   \n",
       "\n",
       "nationality_name            France     Portugal  \n",
       "short_name               N. Diallo Bruno Varela  \n",
       "age                             22           23  \n",
       "club_name         Stade Rennais FC   SL Benfica  "
      ]
     },
     "execution_count": 67,
     "metadata": {},
     "output_type": "execute_result"
    }
   ],
   "source": [
    "multilevel_columns.head(2)"
   ]
  },
  {
   "cell_type": "code",
   "execution_count": 69,
   "id": "2df50ecf-66a2-4582-a19d-373130f14ec3",
   "metadata": {},
   "outputs": [
    {
     "data": {
      "text/html": [
       "<div>\n",
       "<style scoped>\n",
       "    .dataframe tbody tr th:only-of-type {\n",
       "        vertical-align: middle;\n",
       "    }\n",
       "\n",
       "    .dataframe tbody tr th {\n",
       "        vertical-align: top;\n",
       "    }\n",
       "\n",
       "    .dataframe thead th {\n",
       "        text-align: right;\n",
       "    }\n",
       "</style>\n",
       "<table border=\"1\" class=\"dataframe\">\n",
       "  <thead>\n",
       "    <tr style=\"text-align: right;\">\n",
       "      <th></th>\n",
       "      <th></th>\n",
       "      <th>age</th>\n",
       "      <th>club_name</th>\n",
       "    </tr>\n",
       "    <tr>\n",
       "      <th>nationality_name</th>\n",
       "      <th>short_name</th>\n",
       "      <th></th>\n",
       "      <th></th>\n",
       "    </tr>\n",
       "  </thead>\n",
       "  <tbody>\n",
       "    <tr>\n",
       "      <th>Italy</th>\n",
       "      <th>L. Scaglia</th>\n",
       "      <td>31</td>\n",
       "      <td>Parma</td>\n",
       "    </tr>\n",
       "    <tr>\n",
       "      <th>Chile</th>\n",
       "      <th>F. Manzano</th>\n",
       "      <td>24</td>\n",
       "      <td>Club Deportivo Palestino</td>\n",
       "    </tr>\n",
       "  </tbody>\n",
       "</table>\n",
       "</div>"
      ],
      "text/plain": [
       "                             age                 club_name\n",
       "nationality_name short_name                               \n",
       "Italy            L. Scaglia   31                     Parma\n",
       "Chile            F. Manzano   24  Club Deportivo Palestino"
      ]
     },
     "execution_count": 69,
     "metadata": {},
     "output_type": "execute_result"
    }
   ],
   "source": [
    "multilevel_rows.head(2)"
   ]
  },
  {
   "cell_type": "code",
   "execution_count": 83,
   "id": "a370d866-05f7-4561-9423-150476b4a718",
   "metadata": {},
   "outputs": [
    {
     "data": {
      "text/html": [
       "<div>\n",
       "<style scoped>\n",
       "    .dataframe tbody tr th:only-of-type {\n",
       "        vertical-align: middle;\n",
       "    }\n",
       "\n",
       "    .dataframe tbody tr th {\n",
       "        vertical-align: top;\n",
       "    }\n",
       "\n",
       "    .dataframe thead th {\n",
       "        text-align: right;\n",
       "    }\n",
       "</style>\n",
       "<table border=\"1\" class=\"dataframe\">\n",
       "  <thead>\n",
       "    <tr style=\"text-align: right;\">\n",
       "      <th></th>\n",
       "      <th>nationality_name</th>\n",
       "      <th>weight_kg</th>\n",
       "      <th>height_cm</th>\n",
       "    </tr>\n",
       "  </thead>\n",
       "  <tbody>\n",
       "    <tr>\n",
       "      <th>0</th>\n",
       "      <td>Portugal</td>\n",
       "      <td>83</td>\n",
       "      <td>187</td>\n",
       "    </tr>\n",
       "    <tr>\n",
       "      <th>1</th>\n",
       "      <td>Argentina</td>\n",
       "      <td>72</td>\n",
       "      <td>170</td>\n",
       "    </tr>\n",
       "  </tbody>\n",
       "</table>\n",
       "</div>"
      ],
      "text/plain": [
       "  nationality_name  weight_kg  height_cm\n",
       "0         Portugal         83        187\n",
       "1        Argentina         72        170"
      ]
     },
     "execution_count": 83,
     "metadata": {},
     "output_type": "execute_result"
    }
   ],
   "source": [
    "default_range_idx.head(2)"
   ]
  },
  {
   "cell_type": "markdown",
   "id": "d1e581e9-e3b9-4a42-aad6-d864f7f82988",
   "metadata": {},
   "source": [
    "# Stacking and unstacking"
   ]
  },
  {
   "cell_type": "code",
   "execution_count": null,
   "id": "8c85f930-2fca-4330-91f3-150e497740c7",
   "metadata": {},
   "outputs": [],
   "source": []
  }
 ],
 "metadata": {
  "kernelspec": {
   "display_name": "Python [conda env:base] *",
   "language": "python",
   "name": "conda-base-py"
  },
  "language_info": {
   "codemirror_mode": {
    "name": "ipython",
    "version": 3
   },
   "file_extension": ".py",
   "mimetype": "text/x-python",
   "name": "python",
   "nbconvert_exporter": "python",
   "pygments_lexer": "ipython3",
   "version": "3.12.7"
  }
 },
 "nbformat": 4,
 "nbformat_minor": 5
}
