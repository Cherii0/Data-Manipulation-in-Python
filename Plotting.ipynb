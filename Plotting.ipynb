{
 "cells": [
  {
   "cell_type": "code",
   "execution_count": 1,
   "id": "b5129f40-7b40-45e3-bd79-d87b984028d0",
   "metadata": {},
   "outputs": [],
   "source": [
    "import pandas as pd\n",
    "import numpy as np\n",
    "import warnings\n",
    "warnings.simplefilter(category=Warning, action=\"ignore\")"
   ]
  },
  {
   "cell_type": "code",
   "execution_count": 3,
   "id": "cbd9b91f-d2a6-44ef-a2ad-f406457fa36b",
   "metadata": {},
   "outputs": [],
   "source": [
    "data_frame = pd.read_csv(\"../PROJECTS/FIFA/players_19.csv\")\n",
    "data_frame_copy = data_frame"
   ]
  },
  {
   "cell_type": "code",
   "execution_count": 5,
   "id": "499dfbde-5220-4f78-98ae-1c3a776f09d6",
   "metadata": {},
   "outputs": [
    {
     "data": {
      "text/html": [
       "<div>\n",
       "<style scoped>\n",
       "    .dataframe tbody tr th:only-of-type {\n",
       "        vertical-align: middle;\n",
       "    }\n",
       "\n",
       "    .dataframe tbody tr th {\n",
       "        vertical-align: top;\n",
       "    }\n",
       "\n",
       "    .dataframe thead th {\n",
       "        text-align: right;\n",
       "    }\n",
       "</style>\n",
       "<table border=\"1\" class=\"dataframe\">\n",
       "  <thead>\n",
       "    <tr style=\"text-align: right;\">\n",
       "      <th></th>\n",
       "      <th>sofifa_id</th>\n",
       "      <th>player_url</th>\n",
       "      <th>short_name</th>\n",
       "      <th>long_name</th>\n",
       "      <th>player_positions</th>\n",
       "      <th>overall</th>\n",
       "      <th>potential</th>\n",
       "      <th>value_eur</th>\n",
       "      <th>wage_eur</th>\n",
       "      <th>age</th>\n",
       "      <th>...</th>\n",
       "      <th>lcb</th>\n",
       "      <th>cb</th>\n",
       "      <th>rcb</th>\n",
       "      <th>rb</th>\n",
       "      <th>gk</th>\n",
       "      <th>player_face_url</th>\n",
       "      <th>club_logo_url</th>\n",
       "      <th>club_flag_url</th>\n",
       "      <th>nation_logo_url</th>\n",
       "      <th>nation_flag_url</th>\n",
       "    </tr>\n",
       "  </thead>\n",
       "  <tbody>\n",
       "    <tr>\n",
       "      <th>0</th>\n",
       "      <td>20801</td>\n",
       "      <td>https://sofifa.com/player/20801/c-ronaldo-dos-...</td>\n",
       "      <td>Cristiano Ronaldo</td>\n",
       "      <td>Cristiano Ronaldo dos Santos Aveiro</td>\n",
       "      <td>ST, LW</td>\n",
       "      <td>94</td>\n",
       "      <td>94</td>\n",
       "      <td>77000000.0</td>\n",
       "      <td>400000.0</td>\n",
       "      <td>33</td>\n",
       "      <td>...</td>\n",
       "      <td>54+4</td>\n",
       "      <td>54+4</td>\n",
       "      <td>54+4</td>\n",
       "      <td>61+4</td>\n",
       "      <td>20+4</td>\n",
       "      <td>https://cdn.sofifa.net/players/020/801/19_120.png</td>\n",
       "      <td>https://cdn.sofifa.net/teams/45/60.png</td>\n",
       "      <td>https://cdn.sofifa.net/flags/it.png</td>\n",
       "      <td>https://cdn.sofifa.net/teams/1354/60.png</td>\n",
       "      <td>https://cdn.sofifa.net/flags/pt.png</td>\n",
       "    </tr>\n",
       "    <tr>\n",
       "      <th>1</th>\n",
       "      <td>158023</td>\n",
       "      <td>https://sofifa.com/player/158023/lionel-messi/...</td>\n",
       "      <td>L. Messi</td>\n",
       "      <td>Lionel Andrés Messi Cuccittini</td>\n",
       "      <td>CF, RW, ST</td>\n",
       "      <td>94</td>\n",
       "      <td>94</td>\n",
       "      <td>110500000.0</td>\n",
       "      <td>575000.0</td>\n",
       "      <td>31</td>\n",
       "      <td>...</td>\n",
       "      <td>48+7</td>\n",
       "      <td>48+7</td>\n",
       "      <td>48+7</td>\n",
       "      <td>59+7</td>\n",
       "      <td>19+7</td>\n",
       "      <td>https://cdn.sofifa.net/players/158/023/19_120.png</td>\n",
       "      <td>https://cdn.sofifa.net/teams/241/60.png</td>\n",
       "      <td>https://cdn.sofifa.net/flags/es.png</td>\n",
       "      <td>https://cdn.sofifa.net/teams/1369/60.png</td>\n",
       "      <td>https://cdn.sofifa.net/flags/ar.png</td>\n",
       "    </tr>\n",
       "  </tbody>\n",
       "</table>\n",
       "<p>2 rows × 110 columns</p>\n",
       "</div>"
      ],
      "text/plain": [
       "   sofifa_id                                         player_url  \\\n",
       "0      20801  https://sofifa.com/player/20801/c-ronaldo-dos-...   \n",
       "1     158023  https://sofifa.com/player/158023/lionel-messi/...   \n",
       "\n",
       "          short_name                            long_name player_positions  \\\n",
       "0  Cristiano Ronaldo  Cristiano Ronaldo dos Santos Aveiro           ST, LW   \n",
       "1           L. Messi       Lionel Andrés Messi Cuccittini       CF, RW, ST   \n",
       "\n",
       "   overall  potential    value_eur  wage_eur  age  ...   lcb    cb   rcb  \\\n",
       "0       94         94   77000000.0  400000.0   33  ...  54+4  54+4  54+4   \n",
       "1       94         94  110500000.0  575000.0   31  ...  48+7  48+7  48+7   \n",
       "\n",
       "     rb    gk                                    player_face_url  \\\n",
       "0  61+4  20+4  https://cdn.sofifa.net/players/020/801/19_120.png   \n",
       "1  59+7  19+7  https://cdn.sofifa.net/players/158/023/19_120.png   \n",
       "\n",
       "                             club_logo_url  \\\n",
       "0   https://cdn.sofifa.net/teams/45/60.png   \n",
       "1  https://cdn.sofifa.net/teams/241/60.png   \n",
       "\n",
       "                         club_flag_url  \\\n",
       "0  https://cdn.sofifa.net/flags/it.png   \n",
       "1  https://cdn.sofifa.net/flags/es.png   \n",
       "\n",
       "                            nation_logo_url  \\\n",
       "0  https://cdn.sofifa.net/teams/1354/60.png   \n",
       "1  https://cdn.sofifa.net/teams/1369/60.png   \n",
       "\n",
       "                       nation_flag_url  \n",
       "0  https://cdn.sofifa.net/flags/pt.png  \n",
       "1  https://cdn.sofifa.net/flags/ar.png  \n",
       "\n",
       "[2 rows x 110 columns]"
      ]
     },
     "execution_count": 5,
     "metadata": {},
     "output_type": "execute_result"
    }
   ],
   "source": [
    "data_frame.head(2)"
   ]
  },
  {
   "cell_type": "markdown",
   "id": "a7f68021-3f1b-4cfd-87b3-4a485cc6ce7c",
   "metadata": {},
   "source": [
    "# Bar plots\n",
    "* Combine categorical and  numerical variables pairs category-value.\n",
    "* Works on  aggragated DataFrame. From original DataFrame we use aggregating method for example groupby. Then new DataFrame contains group and corresponding aggregated statistics for each group in attribute.\n"
   ]
  },
  {
   "cell_type": "code",
   "execution_count": 8,
   "id": "589ac9cf-6f2b-48e2-af06-944ba38da444",
   "metadata": {},
   "outputs": [],
   "source": [
    "leagues = list(data_frame[\"league_name\"].value_counts().head(5).index)"
   ]
  },
  {
   "cell_type": "code",
   "execution_count": 10,
   "id": "1b73f7a8-b84a-4e69-8081-2e7805dbbf94",
   "metadata": {},
   "outputs": [
    {
     "data": {
      "text/plain": [
       "['Argentina Primera División',\n",
       " 'English League Championship',\n",
       " 'English Premier League',\n",
       " 'English League One',\n",
       " 'USA Major League Soccer']"
      ]
     },
     "execution_count": 10,
     "metadata": {},
     "output_type": "execute_result"
    }
   ],
   "source": [
    "leagues"
   ]
  },
  {
   "cell_type": "code",
   "execution_count": 12,
   "id": "0190e4c4-872f-4950-875f-d5c8ca16395d",
   "metadata": {},
   "outputs": [],
   "source": [
    "data_frame.set_index(\"league_name\", inplace=True)"
   ]
  },
  {
   "cell_type": "code",
   "execution_count": 14,
   "id": "98a097d0-f668-4c90-b9c9-e023e90a07f8",
   "metadata": {},
   "outputs": [],
   "source": [
    "data_frame = data_frame.loc[ leagues , [\"overall\"]]"
   ]
  },
  {
   "cell_type": "code",
   "execution_count": 16,
   "id": "c8dd4fe5-fdef-48bf-918c-a16ef768856c",
   "metadata": {},
   "outputs": [],
   "source": [
    "data_frame.reset_index(drop = False, inplace = True)"
   ]
  },
  {
   "cell_type": "code",
   "execution_count": 18,
   "id": "cc0a4572-e40c-444c-9e2d-9c053041f384",
   "metadata": {},
   "outputs": [
    {
     "data": {
      "text/html": [
       "<div>\n",
       "<style scoped>\n",
       "    .dataframe tbody tr th:only-of-type {\n",
       "        vertical-align: middle;\n",
       "    }\n",
       "\n",
       "    .dataframe tbody tr th {\n",
       "        vertical-align: top;\n",
       "    }\n",
       "\n",
       "    .dataframe thead th {\n",
       "        text-align: right;\n",
       "    }\n",
       "</style>\n",
       "<table border=\"1\" class=\"dataframe\">\n",
       "  <thead>\n",
       "    <tr style=\"text-align: right;\">\n",
       "      <th></th>\n",
       "      <th>league_name</th>\n",
       "      <th>overall</th>\n",
       "    </tr>\n",
       "  </thead>\n",
       "  <tbody>\n",
       "    <tr>\n",
       "      <th>0</th>\n",
       "      <td>Argentina Primera División</td>\n",
       "      <td>80</td>\n",
       "    </tr>\n",
       "    <tr>\n",
       "      <th>1</th>\n",
       "      <td>Argentina Primera División</td>\n",
       "      <td>79</td>\n",
       "    </tr>\n",
       "  </tbody>\n",
       "</table>\n",
       "</div>"
      ],
      "text/plain": [
       "                  league_name  overall\n",
       "0  Argentina Primera División       80\n",
       "1  Argentina Primera División       79"
      ]
     },
     "execution_count": 18,
     "metadata": {},
     "output_type": "execute_result"
    }
   ],
   "source": [
    "data_frame.head(2)"
   ]
  },
  {
   "cell_type": "code",
   "execution_count": 20,
   "id": "b7f1e652-0f5e-4658-9bf9-963104df9dab",
   "metadata": {},
   "outputs": [],
   "source": [
    "aggregated = data_frame.groupby(\"league_name\")[\"overall\"].agg([np.mean, np.max, np.min]).reset_index()"
   ]
  },
  {
   "cell_type": "code",
   "execution_count": 22,
   "id": "14771e0e-ffe8-4263-9162-30542253793d",
   "metadata": {},
   "outputs": [
    {
     "data": {
      "text/html": [
       "<div>\n",
       "<style scoped>\n",
       "    .dataframe tbody tr th:only-of-type {\n",
       "        vertical-align: middle;\n",
       "    }\n",
       "\n",
       "    .dataframe tbody tr th {\n",
       "        vertical-align: top;\n",
       "    }\n",
       "\n",
       "    .dataframe thead th {\n",
       "        text-align: right;\n",
       "    }\n",
       "</style>\n",
       "<table border=\"1\" class=\"dataframe\">\n",
       "  <thead>\n",
       "    <tr style=\"text-align: right;\">\n",
       "      <th></th>\n",
       "      <th>league_name</th>\n",
       "      <th>mean</th>\n",
       "      <th>max</th>\n",
       "      <th>min</th>\n",
       "    </tr>\n",
       "  </thead>\n",
       "  <tbody>\n",
       "    <tr>\n",
       "      <th>0</th>\n",
       "      <td>Argentina Primera División</td>\n",
       "      <td>66.881543</td>\n",
       "      <td>80</td>\n",
       "      <td>51</td>\n",
       "    </tr>\n",
       "    <tr>\n",
       "      <th>1</th>\n",
       "      <td>English League Championship</td>\n",
       "      <td>67.186370</td>\n",
       "      <td>81</td>\n",
       "      <td>51</td>\n",
       "    </tr>\n",
       "    <tr>\n",
       "      <th>2</th>\n",
       "      <td>English League One</td>\n",
       "      <td>61.770186</td>\n",
       "      <td>74</td>\n",
       "      <td>47</td>\n",
       "    </tr>\n",
       "    <tr>\n",
       "      <th>3</th>\n",
       "      <td>English Premier League</td>\n",
       "      <td>73.457576</td>\n",
       "      <td>91</td>\n",
       "      <td>53</td>\n",
       "    </tr>\n",
       "    <tr>\n",
       "      <th>4</th>\n",
       "      <td>USA Major League Soccer</td>\n",
       "      <td>66.527070</td>\n",
       "      <td>85</td>\n",
       "      <td>47</td>\n",
       "    </tr>\n",
       "  </tbody>\n",
       "</table>\n",
       "</div>"
      ],
      "text/plain": [
       "                   league_name       mean  max  min\n",
       "0   Argentina Primera División  66.881543   80   51\n",
       "1  English League Championship  67.186370   81   51\n",
       "2           English League One  61.770186   74   47\n",
       "3       English Premier League  73.457576   91   53\n",
       "4      USA Major League Soccer  66.527070   85   47"
      ]
     },
     "execution_count": 22,
     "metadata": {},
     "output_type": "execute_result"
    }
   ],
   "source": [
    "aggregated"
   ]
  },
  {
   "cell_type": "code",
   "execution_count": 24,
   "id": "2feec037-d9f4-41b2-b4e2-457595ff105a",
   "metadata": {},
   "outputs": [
    {
     "data": {
      "text/plain": [
       "array([<Axes: title={'center': 'mean'}, xlabel='league_name'>,\n",
       "       <Axes: title={'center': 'min'}, xlabel='league_name'>,\n",
       "       <Axes: title={'center': 'max'}, xlabel='league_name'>],\n",
       "      dtype=object)"
      ]
     },
     "execution_count": 24,
     "metadata": {},
     "output_type": "execute_result"
    },
    {
     "data": {
      "image/png": "[encoded data removed]",
      "text/plain": [
       "<Figure size 500x600 with 3 Axes>"
      ]
     },
     "metadata": {},
     "output_type": "display_data"
    }
   ],
   "source": [
    "aggregated.plot(\n",
    "    kind = \"bar\",\n",
    "    figsize=(5, 6),\n",
    "    title = \"min, mean, max for diffrent leagues\",\n",
    "    x = \"league_name\",\n",
    "    y = [\"mean\", \"min\", \"max\"],\n",
    "    rot = 90,\n",
    "    subplots = True\n",
    ")"
   ]
  },
  {
   "cell_type": "markdown",
   "id": "c6e6b2b2-0d16-4674-ab19-47f46579e89f",
   "metadata": {},
   "source": [
    "# Scatter plot\n",
    "* good for showing relationships between two numerical variables\n",
    "* does not aggregate values – rather plot each point in dataset\n",
    "* does not support subplots in one invoke\n",
    "* could customize size and color for points\n"
   ]
  },
  {
   "cell_type": "code",
   "execution_count": 26,
   "id": "dc702155-9bfe-4d87-b5e4-762f588871e7",
   "metadata": {},
   "outputs": [],
   "source": [
    "numeric_data = data_frame_copy[[\"age\", \"overall\", \"weight_kg\", \"height_cm\"]].reset_index(drop = True).sample(n=500, random_state=32)"
   ]
  },
  {
   "cell_type": "code",
   "execution_count": 29,
   "id": "9a6098f4-452f-45c6-85f9-97247d24284b",
   "metadata": {},
   "outputs": [
    {
     "data": {
      "text/html": [
       "<div>\n",
       "<style scoped>\n",
       "    .dataframe tbody tr th:only-of-type {\n",
       "        vertical-align: middle;\n",
       "    }\n",
       "\n",
       "    .dataframe tbody tr th {\n",
       "        vertical-align: top;\n",
       "    }\n",
       "\n",
       "    .dataframe thead th {\n",
       "        text-align: right;\n",
       "    }\n",
       "</style>\n",
       "<table border=\"1\" class=\"dataframe\">\n",
       "  <thead>\n",
       "    <tr style=\"text-align: right;\">\n",
       "      <th></th>\n",
       "      <th>age</th>\n",
       "      <th>overall</th>\n",
       "      <th>weight_kg</th>\n",
       "      <th>height_cm</th>\n",
       "    </tr>\n",
       "  </thead>\n",
       "  <tbody>\n",
       "    <tr>\n",
       "      <th>3403</th>\n",
       "      <td>29</td>\n",
       "      <td>72</td>\n",
       "      <td>70</td>\n",
       "      <td>171</td>\n",
       "    </tr>\n",
       "    <tr>\n",
       "      <th>10609</th>\n",
       "      <td>22</td>\n",
       "      <td>65</td>\n",
       "      <td>70</td>\n",
       "      <td>180</td>\n",
       "    </tr>\n",
       "    <tr>\n",
       "      <th>11312</th>\n",
       "      <td>23</td>\n",
       "      <td>64</td>\n",
       "      <td>78</td>\n",
       "      <td>183</td>\n",
       "    </tr>\n",
       "    <tr>\n",
       "      <th>3501</th>\n",
       "      <td>25</td>\n",
       "      <td>72</td>\n",
       "      <td>70</td>\n",
       "      <td>180</td>\n",
       "    </tr>\n",
       "  </tbody>\n",
       "</table>\n",
       "</div>"
      ],
      "text/plain": [
       "       age  overall  weight_kg  height_cm\n",
       "3403    29       72         70        171\n",
       "10609   22       65         70        180\n",
       "11312   23       64         78        183\n",
       "3501    25       72         70        180"
      ]
     },
     "execution_count": 29,
     "metadata": {},
     "output_type": "execute_result"
    }
   ],
   "source": [
    "numeric_data.head(4)"
   ]
  },
  {
   "cell_type": "code",
   "execution_count": 31,
   "id": "c8994ef7-fd9e-456b-8649-58f34a1291ba",
   "metadata": {},
   "outputs": [
    {
     "data": {
      "text/plain": [
       "<Axes: title={'center': 'relationship between weight and height'}, xlabel='weight_kg', ylabel='height_cm'>"
      ]
     },
     "execution_count": 31,
     "metadata": {},
     "output_type": "execute_result"
    },
    {
     "data": {
      "image/png": "[encoded data removed]",
      "text/plain": [
       "<Figure size 500x500 with 1 Axes>"
      ]
     },
     "metadata": {},
     "output_type": "display_data"
    }
   ],
   "source": [
    "numeric_data.plot(\n",
    "    kind = \"scatter\",\n",
    "    x = \"weight_kg\",\n",
    "    y = \"height_cm\",\n",
    "    figsize = (5,5),\n",
    "    title = \"relationship between weight and height\",\n",
    "    s = 4,\n",
    "    c = \"green\"\n",
    ")"
   ]
  },
  {
   "cell_type": "markdown",
   "id": "be9bda91-4f03-494d-ab46-da90f7afc3b6",
   "metadata": {},
   "source": [
    "# Histogram\n",
    "* good for showing distribution for column – Series\n",
    "* Does not aggregate dataframe\n",
    "* Could be used in 3 ways : with Series, with DataFrame subplots or with DataFrame alpha\n",
    "* Could be used only for numerical values "
   ]
  },
  {
   "cell_type": "code",
   "execution_count": 34,
   "id": "50864698-f67b-406b-81d6-b7bcebbae1a4",
   "metadata": {},
   "outputs": [],
   "source": [
    "hist_data = data_frame_copy.loc[ : , [\"age\", \"value_eur\", \"height_cm\"]].sample(n = 100, random_state = 32).reset_index(drop = True)"
   ]
  },
  {
   "cell_type": "code",
   "execution_count": 36,
   "id": "0648eea3-1928-4df8-b425-dcd1ac7a6a51",
   "metadata": {},
   "outputs": [
    {
     "data": {
      "text/html": [
       "<div>\n",
       "<style scoped>\n",
       "    .dataframe tbody tr th:only-of-type {\n",
       "        vertical-align: middle;\n",
       "    }\n",
       "\n",
       "    .dataframe tbody tr th {\n",
       "        vertical-align: top;\n",
       "    }\n",
       "\n",
       "    .dataframe thead th {\n",
       "        text-align: right;\n",
       "    }\n",
       "</style>\n",
       "<table border=\"1\" class=\"dataframe\">\n",
       "  <thead>\n",
       "    <tr style=\"text-align: right;\">\n",
       "      <th></th>\n",
       "      <th>age</th>\n",
       "      <th>value_eur</th>\n",
       "      <th>height_cm</th>\n",
       "    </tr>\n",
       "  </thead>\n",
       "  <tbody>\n",
       "    <tr>\n",
       "      <th>0</th>\n",
       "      <td>29</td>\n",
       "      <td>2400000.0</td>\n",
       "      <td>171</td>\n",
       "    </tr>\n",
       "    <tr>\n",
       "      <th>1</th>\n",
       "      <td>22</td>\n",
       "      <td>825000.0</td>\n",
       "      <td>180</td>\n",
       "    </tr>\n",
       "    <tr>\n",
       "      <th>2</th>\n",
       "      <td>23</td>\n",
       "      <td>500000.0</td>\n",
       "      <td>183</td>\n",
       "    </tr>\n",
       "    <tr>\n",
       "      <th>3</th>\n",
       "      <td>25</td>\n",
       "      <td>4000000.0</td>\n",
       "      <td>180</td>\n",
       "    </tr>\n",
       "    <tr>\n",
       "      <th>4</th>\n",
       "      <td>25</td>\n",
       "      <td>5000000.0</td>\n",
       "      <td>176</td>\n",
       "    </tr>\n",
       "    <tr>\n",
       "      <th>5</th>\n",
       "      <td>26</td>\n",
       "      <td>800000.0</td>\n",
       "      <td>178</td>\n",
       "    </tr>\n",
       "    <tr>\n",
       "      <th>6</th>\n",
       "      <td>19</td>\n",
       "      <td>110000.0</td>\n",
       "      <td>191</td>\n",
       "    </tr>\n",
       "    <tr>\n",
       "      <th>7</th>\n",
       "      <td>29</td>\n",
       "      <td>1300000.0</td>\n",
       "      <td>180</td>\n",
       "    </tr>\n",
       "    <tr>\n",
       "      <th>8</th>\n",
       "      <td>20</td>\n",
       "      <td>1200000.0</td>\n",
       "      <td>186</td>\n",
       "    </tr>\n",
       "    <tr>\n",
       "      <th>9</th>\n",
       "      <td>18</td>\n",
       "      <td>140000.0</td>\n",
       "      <td>171</td>\n",
       "    </tr>\n",
       "    <tr>\n",
       "      <th>10</th>\n",
       "      <td>19</td>\n",
       "      <td>240000.0</td>\n",
       "      <td>171</td>\n",
       "    </tr>\n",
       "    <tr>\n",
       "      <th>11</th>\n",
       "      <td>25</td>\n",
       "      <td>525000.0</td>\n",
       "      <td>190</td>\n",
       "    </tr>\n",
       "    <tr>\n",
       "      <th>12</th>\n",
       "      <td>22</td>\n",
       "      <td>425000.0</td>\n",
       "      <td>176</td>\n",
       "    </tr>\n",
       "    <tr>\n",
       "      <th>13</th>\n",
       "      <td>31</td>\n",
       "      <td>2100000.0</td>\n",
       "      <td>174</td>\n",
       "    </tr>\n",
       "    <tr>\n",
       "      <th>14</th>\n",
       "      <td>23</td>\n",
       "      <td>5500000.0</td>\n",
       "      <td>183</td>\n",
       "    </tr>\n",
       "  </tbody>\n",
       "</table>\n",
       "</div>"
      ],
      "text/plain": [
       "    age  value_eur  height_cm\n",
       "0    29  2400000.0        171\n",
       "1    22   825000.0        180\n",
       "2    23   500000.0        183\n",
       "3    25  4000000.0        180\n",
       "4    25  5000000.0        176\n",
       "5    26   800000.0        178\n",
       "6    19   110000.0        191\n",
       "7    29  1300000.0        180\n",
       "8    20  1200000.0        186\n",
       "9    18   140000.0        171\n",
       "10   19   240000.0        171\n",
       "11   25   525000.0        190\n",
       "12   22   425000.0        176\n",
       "13   31  2100000.0        174\n",
       "14   23  5500000.0        183"
      ]
     },
     "execution_count": 36,
     "metadata": {},
     "output_type": "execute_result"
    }
   ],
   "source": [
    "hist_data.head(15)"
   ]
  },
  {
   "cell_type": "code",
   "execution_count": 38,
   "id": "0b44ba98-931d-42a7-a4eb-648e206ff5ab",
   "metadata": {},
   "outputs": [
    {
     "data": {
      "text/plain": [
       "<Axes: ylabel='Frequency'>"
      ]
     },
     "execution_count": 38,
     "metadata": {},
     "output_type": "execute_result"
    },
    {
     "data": {
      "image/png": "[encoded data removed]",
      "text/plain": [
       "<Figure size 400x300 with 1 Axes>"
      ]
     },
     "metadata": {},
     "output_type": "display_data"
    }
   ],
   "source": [
    "hist_data.plot(\n",
    "    kind = \"hist\",\n",
    "    bins = 40,\n",
    "    figsize = (4,3),\n",
    "    alpha = 0.5\n",
    ")"
   ]
  },
  {
   "cell_type": "code",
   "execution_count": 40,
   "id": "b8d1f1d7-3fb0-4f95-b917-74812d31bc76",
   "metadata": {},
   "outputs": [
    {
     "data": {
      "text/plain": [
       "array([<Axes: ylabel='Frequency'>, <Axes: ylabel='Frequency'>,\n",
       "       <Axes: ylabel='Frequency'>], dtype=object)"
      ]
     },
     "execution_count": 40,
     "metadata": {},
     "output_type": "execute_result"
    },
    {
     "data": {
      "image/png": "[encoded data removed]",
      "text/plain": [
       "<Figure size 400x300 with 3 Axes>"
      ]
     },
     "metadata": {},
     "output_type": "display_data"
    }
   ],
   "source": [
    "hist_data.plot(\n",
    "    kind = \"hist\",\n",
    "    bins = 40,\n",
    "    figsize = (4,3),\n",
    "    alpha = 1,\n",
    "    subplots = True\n",
    ")"
   ]
  },
  {
   "cell_type": "code",
   "execution_count": 41,
   "id": "c9cf7d4a-4c13-47b2-ba8f-1953aeb1f87e",
   "metadata": {},
   "outputs": [
    {
     "data": {
      "text/plain": [
       "<Axes: title={'center': 'age distribution'}, ylabel='Frequency'>"
      ]
     },
     "execution_count": 41,
     "metadata": {},
     "output_type": "execute_result"
    },
    {
     "data": {
      "image/png": "[encoded data removed]",
      "text/plain": [
       "<Figure size 400x300 with 1 Axes>"
      ]
     },
     "metadata": {},
     "output_type": "display_data"
    }
   ],
   "source": [
    "hist_data[\"age\"].plot(\n",
    "    kind = \"hist\",\n",
    "    bins = 40,\n",
    "    figsize = (4,3),\n",
    "    alpha = 1,\n",
    "    subplots = False,\n",
    "    title = \"age distribution\"\n",
    ")"
   ]
  },
  {
   "cell_type": "markdown",
   "id": "5eee8c49-a695-4e8c-8400-ba9fc971fcb3",
   "metadata": {},
   "source": [
    "# Line plot\n",
    "* Good for time series - datetype\n",
    "* DataFrame needs to be sorted by date – ascending\n"
   ]
  },
  {
   "cell_type": "code",
   "execution_count": 45,
   "id": "85a91b49-29ff-4c89-a5a0-331d2d9121e1",
   "metadata": {},
   "outputs": [],
   "source": [
    "versions =  [\"19\", \"20\", \"21\", \"22\"]\n",
    "data_frames = []\n",
    "for version in versions: \n",
    "    data_frames.append(pd.read_csv(f\"../PROJECTS/FIFA/players_{version}.csv\"))"
   ]
  },
  {
   "cell_type": "code",
   "execution_count": 46,
   "id": "2a43125e-839b-45c2-993a-5a9f103f0cfd",
   "metadata": {},
   "outputs": [],
   "source": [
    "for df, year in zip(data_frames, versions):\n",
    "    df[\"year\"] = 2000 + int(year)"
   ]
  },
  {
   "cell_type": "code",
   "execution_count": 47,
   "id": "8964304c-9e10-454d-8906-9e90bd9b00af",
   "metadata": {},
   "outputs": [],
   "source": [
    "data_frame = pd.concat(objs = [df[[\"year\", \"short_name\", \"overall\", \"potential\", \"age\"]] for df in data_frames], axis = 0)"
   ]
  },
  {
   "cell_type": "code",
   "execution_count": 51,
   "id": "6ecdf54d-fe06-4688-87ad-a013f84c8dfd",
   "metadata": {},
   "outputs": [],
   "source": [
    "data_frame = data_frame.drop_duplicates(subset=[\"year\", \"short_name\"]).set_index(\"short_name\")"
   ]
  },
  {
   "cell_type": "code",
   "execution_count": 53,
   "id": "329ef4f8-14c3-4eeb-afd9-73f6b0dc2622",
   "metadata": {},
   "outputs": [
    {
     "data": {
      "text/html": [
       "<div>\n",
       "<style scoped>\n",
       "    .dataframe tbody tr th:only-of-type {\n",
       "        vertical-align: middle;\n",
       "    }\n",
       "\n",
       "    .dataframe tbody tr th {\n",
       "        vertical-align: top;\n",
       "    }\n",
       "\n",
       "    .dataframe thead th {\n",
       "        text-align: right;\n",
       "    }\n",
       "</style>\n",
       "<table border=\"1\" class=\"dataframe\">\n",
       "  <thead>\n",
       "    <tr style=\"text-align: right;\">\n",
       "      <th></th>\n",
       "      <th>year</th>\n",
       "      <th>overall</th>\n",
       "      <th>potential</th>\n",
       "      <th>age</th>\n",
       "    </tr>\n",
       "    <tr>\n",
       "      <th>short_name</th>\n",
       "      <th></th>\n",
       "      <th></th>\n",
       "      <th></th>\n",
       "      <th></th>\n",
       "    </tr>\n",
       "  </thead>\n",
       "  <tbody>\n",
       "    <tr>\n",
       "      <th>Cristiano Ronaldo</th>\n",
       "      <td>2019</td>\n",
       "      <td>94</td>\n",
       "      <td>94</td>\n",
       "      <td>33</td>\n",
       "    </tr>\n",
       "    <tr>\n",
       "      <th>Cristiano Ronaldo</th>\n",
       "      <td>2020</td>\n",
       "      <td>93</td>\n",
       "      <td>93</td>\n",
       "      <td>34</td>\n",
       "    </tr>\n",
       "    <tr>\n",
       "      <th>Cristiano Ronaldo</th>\n",
       "      <td>2021</td>\n",
       "      <td>92</td>\n",
       "      <td>92</td>\n",
       "      <td>35</td>\n",
       "    </tr>\n",
       "    <tr>\n",
       "      <th>Cristiano Ronaldo</th>\n",
       "      <td>2022</td>\n",
       "      <td>91</td>\n",
       "      <td>91</td>\n",
       "      <td>36</td>\n",
       "    </tr>\n",
       "    <tr>\n",
       "      <th>L. Messi</th>\n",
       "      <td>2019</td>\n",
       "      <td>94</td>\n",
       "      <td>94</td>\n",
       "      <td>31</td>\n",
       "    </tr>\n",
       "    <tr>\n",
       "      <th>L. Messi</th>\n",
       "      <td>2020</td>\n",
       "      <td>94</td>\n",
       "      <td>94</td>\n",
       "      <td>32</td>\n",
       "    </tr>\n",
       "    <tr>\n",
       "      <th>L. Messi</th>\n",
       "      <td>2021</td>\n",
       "      <td>93</td>\n",
       "      <td>93</td>\n",
       "      <td>33</td>\n",
       "    </tr>\n",
       "    <tr>\n",
       "      <th>L. Messi</th>\n",
       "      <td>2022</td>\n",
       "      <td>93</td>\n",
       "      <td>93</td>\n",
       "      <td>34</td>\n",
       "    </tr>\n",
       "  </tbody>\n",
       "</table>\n",
       "</div>"
      ],
      "text/plain": [
       "                   year  overall  potential  age\n",
       "short_name                                      \n",
       "Cristiano Ronaldo  2019       94         94   33\n",
       "Cristiano Ronaldo  2020       93         93   34\n",
       "Cristiano Ronaldo  2021       92         92   35\n",
       "Cristiano Ronaldo  2022       91         91   36\n",
       "L. Messi           2019       94         94   31\n",
       "L. Messi           2020       94         94   32\n",
       "L. Messi           2021       93         93   33\n",
       "L. Messi           2022       93         93   34"
      ]
     },
     "execution_count": 53,
     "metadata": {},
     "output_type": "execute_result"
    }
   ],
   "source": [
    "data_frame.loc[ [\"Cristiano Ronaldo\", \"L. Messi\"] , :]"
   ]
  },
  {
   "cell_type": "code",
   "execution_count": 55,
   "id": "1ce7c8f5-858d-4d20-afbf-c0d7d043aee4",
   "metadata": {},
   "outputs": [],
   "source": [
    "data_frame.reset_index(drop = False, inplace = True)"
   ]
  },
  {
   "cell_type": "code",
   "execution_count": 57,
   "id": "c66056e2-6a7f-42f0-b355-36ab478ceed2",
   "metadata": {},
   "outputs": [
    {
     "data": {
      "text/html": [
       "<div>\n",
       "<style scoped>\n",
       "    .dataframe tbody tr th:only-of-type {\n",
       "        vertical-align: middle;\n",
       "    }\n",
       "\n",
       "    .dataframe tbody tr th {\n",
       "        vertical-align: top;\n",
       "    }\n",
       "\n",
       "    .dataframe thead th {\n",
       "        text-align: right;\n",
       "    }\n",
       "</style>\n",
       "<table border=\"1\" class=\"dataframe\">\n",
       "  <thead>\n",
       "    <tr style=\"text-align: right;\">\n",
       "      <th></th>\n",
       "      <th>short_name</th>\n",
       "      <th>year</th>\n",
       "      <th>overall</th>\n",
       "      <th>potential</th>\n",
       "      <th>age</th>\n",
       "    </tr>\n",
       "  </thead>\n",
       "  <tbody>\n",
       "    <tr>\n",
       "      <th>0</th>\n",
       "      <td>Cristiano Ronaldo</td>\n",
       "      <td>2019</td>\n",
       "      <td>94</td>\n",
       "      <td>94</td>\n",
       "      <td>33</td>\n",
       "    </tr>\n",
       "    <tr>\n",
       "      <th>1</th>\n",
       "      <td>L. Messi</td>\n",
       "      <td>2019</td>\n",
       "      <td>94</td>\n",
       "      <td>94</td>\n",
       "      <td>31</td>\n",
       "    </tr>\n",
       "    <tr>\n",
       "      <th>2</th>\n",
       "      <td>Neymar</td>\n",
       "      <td>2019</td>\n",
       "      <td>92</td>\n",
       "      <td>93</td>\n",
       "      <td>26</td>\n",
       "    </tr>\n",
       "    <tr>\n",
       "      <th>3</th>\n",
       "      <td>Sergio Ramos</td>\n",
       "      <td>2019</td>\n",
       "      <td>91</td>\n",
       "      <td>91</td>\n",
       "      <td>32</td>\n",
       "    </tr>\n",
       "    <tr>\n",
       "      <th>4</th>\n",
       "      <td>L. Suárez</td>\n",
       "      <td>2019</td>\n",
       "      <td>91</td>\n",
       "      <td>91</td>\n",
       "      <td>31</td>\n",
       "    </tr>\n",
       "    <tr>\n",
       "      <th>...</th>\n",
       "      <td>...</td>\n",
       "      <td>...</td>\n",
       "      <td>...</td>\n",
       "      <td>...</td>\n",
       "      <td>...</td>\n",
       "    </tr>\n",
       "    <tr>\n",
       "      <th>70694</th>\n",
       "      <td>R. Gallagher</td>\n",
       "      <td>2022</td>\n",
       "      <td>47</td>\n",
       "      <td>61</td>\n",
       "      <td>20</td>\n",
       "    </tr>\n",
       "    <tr>\n",
       "      <th>70695</th>\n",
       "      <td>Song Defu</td>\n",
       "      <td>2022</td>\n",
       "      <td>47</td>\n",
       "      <td>52</td>\n",
       "      <td>22</td>\n",
       "    </tr>\n",
       "    <tr>\n",
       "      <th>70696</th>\n",
       "      <td>N. Logue</td>\n",
       "      <td>2022</td>\n",
       "      <td>47</td>\n",
       "      <td>55</td>\n",
       "      <td>21</td>\n",
       "    </tr>\n",
       "    <tr>\n",
       "      <th>70697</th>\n",
       "      <td>L. Rudden</td>\n",
       "      <td>2022</td>\n",
       "      <td>47</td>\n",
       "      <td>60</td>\n",
       "      <td>19</td>\n",
       "    </tr>\n",
       "    <tr>\n",
       "      <th>70698</th>\n",
       "      <td>E. Lalchhanchhuaha</td>\n",
       "      <td>2022</td>\n",
       "      <td>47</td>\n",
       "      <td>60</td>\n",
       "      <td>19</td>\n",
       "    </tr>\n",
       "  </tbody>\n",
       "</table>\n",
       "<p>70699 rows × 5 columns</p>\n",
       "</div>"
      ],
      "text/plain": [
       "               short_name  year  overall  potential  age\n",
       "0       Cristiano Ronaldo  2019       94         94   33\n",
       "1                L. Messi  2019       94         94   31\n",
       "2                  Neymar  2019       92         93   26\n",
       "3            Sergio Ramos  2019       91         91   32\n",
       "4               L. Suárez  2019       91         91   31\n",
       "...                   ...   ...      ...        ...  ...\n",
       "70694        R. Gallagher  2022       47         61   20\n",
       "70695           Song Defu  2022       47         52   22\n",
       "70696            N. Logue  2022       47         55   21\n",
       "70697           L. Rudden  2022       47         60   19\n",
       "70698  E. Lalchhanchhuaha  2022       47         60   19\n",
       "\n",
       "[70699 rows x 5 columns]"
      ]
     },
     "execution_count": 57,
     "metadata": {},
     "output_type": "execute_result"
    }
   ],
   "source": [
    "data_frame"
   ]
  },
  {
   "cell_type": "code",
   "execution_count": 59,
   "id": "b847cf3e-639e-48c6-acdd-63f2f532ee46",
   "metadata": {},
   "outputs": [],
   "source": [
    "players_year_count = data_frame.groupby(\"short_name\").count().reset_index(drop = False)"
   ]
  },
  {
   "cell_type": "code",
   "execution_count": 61,
   "id": "fdfa1b12-662a-490f-aeee-45756b0164dc",
   "metadata": {},
   "outputs": [
    {
     "data": {
      "text/plain": [
       "Index(['short_name', 'year', 'overall', 'potential', 'age'], dtype='object')"
      ]
     },
     "execution_count": 61,
     "metadata": {},
     "output_type": "execute_result"
    }
   ],
   "source": [
    "players_year_count.columns"
   ]
  },
  {
   "cell_type": "code",
   "execution_count": 63,
   "id": "cae09616-8188-4393-ab2c-b0552ce06b0f",
   "metadata": {},
   "outputs": [],
   "source": [
    "players_name_allfifas = players_year_count[players_year_count[\"year\"] == 4][\"short_name\"].values"
   ]
  },
  {
   "cell_type": "code",
   "execution_count": 65,
   "id": "d408af6f-9d66-4de1-8449-30beb5c39b94",
   "metadata": {},
   "outputs": [],
   "source": [
    "players_allfifas = data_frame.set_index(\"short_name\").loc[players_name_allfifas, : ]"
   ]
  },
  {
   "cell_type": "code",
   "execution_count": 69,
   "id": "a1a8b5e5-1e4f-46fc-a26d-75088cc3536f",
   "metadata": {},
   "outputs": [],
   "source": [
    "line_plot_data = pd.DataFrame(players_allfifas).reset_index(drop = False)"
   ]
  },
  {
   "cell_type": "code",
   "execution_count": 115,
   "id": "1bdefe27-a99a-434f-aa91-1dfd3fa65cd7",
   "metadata": {},
   "outputs": [],
   "source": [
    "line_plot_data = line_plot_data.groupby(\"year\")[[\"overall\", \"potential\", \"age\"]].mean()"
   ]
  },
  {
   "cell_type": "code",
   "execution_count": 131,
   "id": "868b8898-cd90-41e7-9fc5-5f53270f7b0a",
   "metadata": {},
   "outputs": [
    {
     "data": {
      "text/html": [
       "<div>\n",
       "<style scoped>\n",
       "    .dataframe tbody tr th:only-of-type {\n",
       "        vertical-align: middle;\n",
       "    }\n",
       "\n",
       "    .dataframe tbody tr th {\n",
       "        vertical-align: top;\n",
       "    }\n",
       "\n",
       "    .dataframe thead th {\n",
       "        text-align: right;\n",
       "    }\n",
       "</style>\n",
       "<table border=\"1\" class=\"dataframe\">\n",
       "  <thead>\n",
       "    <tr style=\"text-align: right;\">\n",
       "      <th></th>\n",
       "      <th>overall</th>\n",
       "      <th>potential</th>\n",
       "      <th>age</th>\n",
       "    </tr>\n",
       "    <tr>\n",
       "      <th>year</th>\n",
       "      <th></th>\n",
       "      <th></th>\n",
       "      <th></th>\n",
       "    </tr>\n",
       "  </thead>\n",
       "  <tbody>\n",
       "    <tr>\n",
       "      <th>2019</th>\n",
       "      <td>68.634769</td>\n",
       "      <td>73.733325</td>\n",
       "      <td>24.912519</td>\n",
       "    </tr>\n",
       "    <tr>\n",
       "      <th>2020</th>\n",
       "      <td>69.630538</td>\n",
       "      <td>73.817944</td>\n",
       "      <td>25.818940</td>\n",
       "    </tr>\n",
       "    <tr>\n",
       "      <th>2021</th>\n",
       "      <td>69.737307</td>\n",
       "      <td>73.088975</td>\n",
       "      <td>26.553758</td>\n",
       "    </tr>\n",
       "    <tr>\n",
       "      <th>2022</th>\n",
       "      <td>69.958437</td>\n",
       "      <td>72.366725</td>\n",
       "      <td>27.480712</td>\n",
       "    </tr>\n",
       "  </tbody>\n",
       "</table>\n",
       "</div>"
      ],
      "text/plain": [
       "        overall  potential        age\n",
       "year                                 \n",
       "2019  68.634769  73.733325  24.912519\n",
       "2020  69.630538  73.817944  25.818940\n",
       "2021  69.737307  73.088975  26.553758\n",
       "2022  69.958437  72.366725  27.480712"
      ]
     },
     "execution_count": 131,
     "metadata": {},
     "output_type": "execute_result"
    }
   ],
   "source": [
    "line_plot_data.sort_index()"
   ]
  },
  {
   "cell_type": "code",
   "execution_count": 129,
   "id": "230a0453-ddf3-4429-bbae-9e1115fbda26",
   "metadata": {},
   "outputs": [
    {
     "data": {
      "text/plain": [
       "array([<Axes: xlabel='year'>, <Axes: xlabel='year'>,\n",
       "       <Axes: xlabel='year'>], dtype=object)"
      ]
     },
     "execution_count": 129,
     "metadata": {},
     "output_type": "execute_result"
    },
    {
     "data": {
      "image/png": "[encoded data removed]",
      "text/plain": [
       "<Figure size 1000x400 with 3 Axes>"
      ]
     },
     "metadata": {},
     "output_type": "display_data"
    }
   ],
   "source": [
    "line_plot_data.plot(\n",
    "    kind = \"line\",\n",
    "    subplots = True,\n",
    "    y = [\"overall\", \"potential\", \"age\"],\n",
    "    figsize = (10, 4)\n",
    ")\n"
   ]
  },
  {
   "cell_type": "markdown",
   "id": "b2769f5b-3972-4942-bd8d-9c36d4f65b3a",
   "metadata": {},
   "source": [
    "# Pie plot\n",
    "* use to visualize category variable and each value controbution in this variable\n",
    "* for subplots requires common index\n",
    "* Requires index – that will be ised as labels in pie chart"
   ]
  },
  {
   "cell_type": "code",
   "execution_count": 146,
   "id": "8cf8b88e-a2d7-479e-ab68-46d73d43e6cc",
   "metadata": {},
   "outputs": [
    {
     "data": {
      "text/plain": [
       "array(['sofifa_id', 'player_url', 'short_name', 'long_name',\n",
       "       'player_positions', 'overall', 'potential', 'value_eur',\n",
       "       'wage_eur', 'age', 'dob', 'height_cm', 'weight_kg', 'club_team_id',\n",
       "       'club_name', 'league_level', 'club_position', 'club_jersey_number',\n",
       "       'club_loaned_from', 'club_joined', 'club_contract_valid_until',\n",
       "       'nationality_id', 'nationality_name', 'nation_team_id',\n",
       "       'nation_position', 'nation_jersey_number', 'preferred_foot',\n",
       "       'weak_foot', 'skill_moves', 'international_reputation',\n",
       "       'work_rate', 'body_type', 'real_face', 'release_clause_eur',\n",
       "       'player_tags', 'player_traits', 'pace', 'shooting', 'passing',\n",
       "       'dribbling', 'defending', 'physic', 'attacking_crossing',\n",
       "       'attacking_finishing', 'attacking_heading_accuracy',\n",
       "       'attacking_short_passing', 'attacking_volleys', 'skill_dribbling',\n",
       "       'skill_curve', 'skill_fk_accuracy', 'skill_long_passing',\n",
       "       'skill_ball_control', 'movement_acceleration',\n",
       "       'movement_sprint_speed', 'movement_agility', 'movement_reactions',\n",
       "       'movement_balance', 'power_shot_power', 'power_jumping',\n",
       "       'power_stamina', 'power_strength', 'power_long_shots',\n",
       "       'mentality_aggression', 'mentality_interceptions',\n",
       "       'mentality_positioning', 'mentality_vision', 'mentality_penalties',\n",
       "       'mentality_composure', 'defending_marking_awareness',\n",
       "       'defending_standing_tackle', 'defending_sliding_tackle',\n",
       "       'goalkeeping_diving', 'goalkeeping_handling',\n",
       "       'goalkeeping_kicking', 'goalkeeping_positioning',\n",
       "       'goalkeeping_reflexes', 'goalkeeping_speed', 'ls', 'st', 'rs',\n",
       "       'lw', 'lf', 'cf', 'rf', 'rw', 'lam', 'cam', 'ram', 'lm', 'lcm',\n",
       "       'cm', 'rcm', 'rm', 'lwb', 'ldm', 'cdm', 'rdm', 'rwb', 'lb', 'lcb',\n",
       "       'cb', 'rcb', 'rb', 'gk', 'player_face_url', 'club_logo_url',\n",
       "       'club_flag_url', 'nation_logo_url', 'nation_flag_url'],\n",
       "      dtype=object)"
      ]
     },
     "execution_count": 146,
     "metadata": {},
     "output_type": "execute_result"
    }
   ],
   "source": [
    "np.array(data_frame_copy.columns) "
   ]
  },
  {
   "cell_type": "code",
   "execution_count": 226,
   "id": "af4152c9-2b03-42c3-a855-4cedc9050490",
   "metadata": {},
   "outputs": [],
   "source": [
    "data_frame_positions = data_frame_copy.reset_index(drop = True)\n",
    "data_frame_positions = data_frame_positions.loc[: , [\"player_positions\"]][\"player_positions\"].str.split(pat = \", \", expand = True).loc[: , [0]]\n",
    "data_frame_positions = data_frame_positions.rename(columns = {0 : \"position\"})"
   ]
  },
  {
   "cell_type": "code",
   "execution_count": 228,
   "id": "26ec32c1-052a-46f0-b71b-c4abf1174458",
   "metadata": {},
   "outputs": [
    {
     "data": {
      "text/html": [
       "<div>\n",
       "<style scoped>\n",
       "    .dataframe tbody tr th:only-of-type {\n",
       "        vertical-align: middle;\n",
       "    }\n",
       "\n",
       "    .dataframe tbody tr th {\n",
       "        vertical-align: top;\n",
       "    }\n",
       "\n",
       "    .dataframe thead th {\n",
       "        text-align: right;\n",
       "    }\n",
       "</style>\n",
       "<table border=\"1\" class=\"dataframe\">\n",
       "  <thead>\n",
       "    <tr style=\"text-align: right;\">\n",
       "      <th></th>\n",
       "      <th>position</th>\n",
       "    </tr>\n",
       "  </thead>\n",
       "  <tbody>\n",
       "    <tr>\n",
       "      <th>0</th>\n",
       "      <td>ST</td>\n",
       "    </tr>\n",
       "    <tr>\n",
       "      <th>1</th>\n",
       "      <td>CF</td>\n",
       "    </tr>\n",
       "    <tr>\n",
       "      <th>2</th>\n",
       "      <td>LW</td>\n",
       "    </tr>\n",
       "    <tr>\n",
       "      <th>3</th>\n",
       "      <td>CB</td>\n",
       "    </tr>\n",
       "    <tr>\n",
       "      <th>4</th>\n",
       "      <td>ST</td>\n",
       "    </tr>\n",
       "    <tr>\n",
       "      <th>...</th>\n",
       "      <td>...</td>\n",
       "    </tr>\n",
       "    <tr>\n",
       "      <th>18080</th>\n",
       "      <td>CM</td>\n",
       "    </tr>\n",
       "    <tr>\n",
       "      <th>18081</th>\n",
       "      <td>GK</td>\n",
       "    </tr>\n",
       "    <tr>\n",
       "      <th>18082</th>\n",
       "      <td>CM</td>\n",
       "    </tr>\n",
       "    <tr>\n",
       "      <th>18083</th>\n",
       "      <td>RB</td>\n",
       "    </tr>\n",
       "    <tr>\n",
       "      <th>18084</th>\n",
       "      <td>CM</td>\n",
       "    </tr>\n",
       "  </tbody>\n",
       "</table>\n",
       "<p>18085 rows × 1 columns</p>\n",
       "</div>"
      ],
      "text/plain": [
       "      position\n",
       "0           ST\n",
       "1           CF\n",
       "2           LW\n",
       "3           CB\n",
       "4           ST\n",
       "...        ...\n",
       "18080       CM\n",
       "18081       GK\n",
       "18082       CM\n",
       "18083       RB\n",
       "18084       CM\n",
       "\n",
       "[18085 rows x 1 columns]"
      ]
     },
     "execution_count": 228,
     "metadata": {},
     "output_type": "execute_result"
    }
   ],
   "source": [
    "data_frame_positions"
   ]
  },
  {
   "cell_type": "code",
   "execution_count": 236,
   "id": "3bc3ab8e-2399-4c03-aea5-e054217bf346",
   "metadata": {},
   "outputs": [
    {
     "data": {
      "text/plain": [
       "pandas.core.series.Series"
      ]
     },
     "execution_count": 236,
     "metadata": {},
     "output_type": "execute_result"
    }
   ],
   "source": [
    "type(data_frame_positions[\"position\"].value_counts())"
   ]
  },
  {
   "cell_type": "code",
   "execution_count": 248,
   "id": "a31ab477-2b71-4b62-8257-d6a68b48374c",
   "metadata": {},
   "outputs": [
    {
     "data": {
      "text/plain": [
       "<Axes: title={'center': 'position distribution'}, ylabel='count'>"
      ]
     },
     "execution_count": 248,
     "metadata": {},
     "output_type": "execute_result"
    },
    {
     "data": {
      "image/png": "[encoded data removed]",
      "text/plain": [
       "<Figure size 640x480 with 1 Axes>"
      ]
     },
     "metadata": {},
     "output_type": "display_data"
    }
   ],
   "source": [
    "data_frame_positions[\"position\"].value_counts()[:-3].plot(\n",
    "    kind = \"pie\",\n",
    "    title = \"position distribution\"\n",
    ")"
   ]
  },
  {
   "cell_type": "code",
   "execution_count": 500,
   "id": "b29054aa-19dd-42c2-a126-970d8370ef50",
   "metadata": {},
   "outputs": [],
   "source": [
    "pie_data = data_frame_copy.loc[: , [ 'wage_eur', 'value_eur']].reset_index(drop = False)"
   ]
  },
  {
   "cell_type": "code",
   "execution_count": 502,
   "id": "89440e2e-e4a8-423e-91f5-945b27272f90",
   "metadata": {},
   "outputs": [],
   "source": [
    "pie_data = pie_data.groupby(\"league_name\")[[\"wage_eur\",\"value_eur\"]].sum()"
   ]
  },
  {
   "cell_type": "code",
   "execution_count": 504,
   "id": "93dd68d9-bf7a-4588-b090-7c944a8bc933",
   "metadata": {},
   "outputs": [],
   "source": [
    "pie_data[\"wage_eur\"] = pie_data[\"wage_eur\"] / 1000000\n",
    "pie_data[\"value_eur\"] = pie_data[\"value_eur\"] / 1000000"
   ]
  },
  {
   "cell_type": "code",
   "execution_count": 506,
   "id": "3f294bca-3609-465d-9e1d-90a3ba8fbd12",
   "metadata": {},
   "outputs": [],
   "source": [
    "pie_data = pie_data.rename(columns = {\"wage_eur\" : \"wage_eur_mln\", \"value_eur\" : \"value_eur_mln\"})"
   ]
  },
  {
   "cell_type": "code",
   "execution_count": 508,
   "id": "31dc1920-f418-4faa-8375-956397d0b91d",
   "metadata": {},
   "outputs": [],
   "source": [
    "pie_data = pie_data.sort_values(by=[\"value_eur_mln\", \"wage_eur_mln\"], ascending=[False, False])"
   ]
  },
  {
   "cell_type": "code",
   "execution_count": 510,
   "id": "cf911b28-1435-4f0f-b8c0-5d6d92b2f1e0",
   "metadata": {},
   "outputs": [],
   "source": [
    "top5 = pie_data.iloc[ :5 , :]"
   ]
  },
  {
   "cell_type": "code",
   "execution_count": 512,
   "id": "011369a3-55a2-4864-80e9-ab930739ffe2",
   "metadata": {},
   "outputs": [],
   "source": [
    "others = pd.DataFrame(pie_data.iloc[ 5: , :][[\"wage_eur_mln\", \"value_eur_mln\"]].sum()).transpose()"
   ]
  },
  {
   "cell_type": "code",
   "execution_count": 514,
   "id": "c7b46882-b5a3-4de7-a336-6b884514e68f",
   "metadata": {},
   "outputs": [],
   "source": [
    "pie_data = pd.concat(objs = [others, top5], axis = 0).reset_index(drop = False).rename(columns={\"index\" : \"Leagues\"})"
   ]
  },
  {
   "cell_type": "code",
   "execution_count": 554,
   "id": "a6def628-0bb5-4497-a7b7-c3a495b8b362",
   "metadata": {},
   "outputs": [],
   "source": [
    "# pd.DataFrame.replace?"
   ]
  },
  {
   "cell_type": "code",
   "execution_count": 526,
   "id": "19df24ba-a09e-4b45-8789-86520049fad4",
   "metadata": {},
   "outputs": [],
   "source": [
    "pie_data = pie_data.replace(0, \"Others\")"
   ]
  },
  {
   "cell_type": "code",
   "execution_count": 532,
   "id": "5e672fc8-3713-4ff1-a693-66775b161681",
   "metadata": {},
   "outputs": [],
   "source": [
    "pie_data.set_index(\"Leagues\", inplace = True)"
   ]
  },
  {
   "cell_type": "code",
   "execution_count": 536,
   "id": "6fd18d59-6e71-4f09-8c36-b6b031268ef5",
   "metadata": {},
   "outputs": [
    {
     "data": {
      "text/html": [
       "<div>\n",
       "<style scoped>\n",
       "    .dataframe tbody tr th:only-of-type {\n",
       "        vertical-align: middle;\n",
       "    }\n",
       "\n",
       "    .dataframe tbody tr th {\n",
       "        vertical-align: top;\n",
       "    }\n",
       "\n",
       "    .dataframe thead th {\n",
       "        text-align: right;\n",
       "    }\n",
       "</style>\n",
       "<table border=\"1\" class=\"dataframe\">\n",
       "  <thead>\n",
       "    <tr style=\"text-align: right;\">\n",
       "      <th></th>\n",
       "      <th>wage_eur_mln</th>\n",
       "      <th>value_eur_mln</th>\n",
       "    </tr>\n",
       "    <tr>\n",
       "      <th>Leagues</th>\n",
       "      <th></th>\n",
       "      <th></th>\n",
       "    </tr>\n",
       "  </thead>\n",
       "  <tbody>\n",
       "    <tr>\n",
       "      <th>Others</th>\n",
       "      <td>75.4530</td>\n",
       "      <td>19543.932</td>\n",
       "    </tr>\n",
       "    <tr>\n",
       "      <th>English Premier League</th>\n",
       "      <td>35.6280</td>\n",
       "      <td>6397.005</td>\n",
       "    </tr>\n",
       "    <tr>\n",
       "      <th>Spain Primera Division</th>\n",
       "      <td>20.3200</td>\n",
       "      <td>5774.835</td>\n",
       "    </tr>\n",
       "    <tr>\n",
       "      <th>Italian Serie A</th>\n",
       "      <td>18.7365</td>\n",
       "      <td>4588.410</td>\n",
       "    </tr>\n",
       "    <tr>\n",
       "      <th>German 1. Bundesliga</th>\n",
       "      <td>13.6840</td>\n",
       "      <td>3981.610</td>\n",
       "    </tr>\n",
       "    <tr>\n",
       "      <th>French Ligue 1</th>\n",
       "      <td>11.7525</td>\n",
       "      <td>3058.795</td>\n",
       "    </tr>\n",
       "  </tbody>\n",
       "</table>\n",
       "</div>"
      ],
      "text/plain": [
       "                        wage_eur_mln  value_eur_mln\n",
       "Leagues                                            \n",
       "Others                       75.4530      19543.932\n",
       "English Premier League       35.6280       6397.005\n",
       "Spain Primera Division       20.3200       5774.835\n",
       "Italian Serie A              18.7365       4588.410\n",
       "German 1. Bundesliga         13.6840       3981.610\n",
       "French Ligue 1               11.7525       3058.795"
      ]
     },
     "execution_count": 536,
     "metadata": {},
     "output_type": "execute_result"
    }
   ],
   "source": [
    "pie_data"
   ]
  },
  {
   "cell_type": "code",
   "execution_count": 552,
   "id": "49c8747b-fc4e-4a54-a953-0c3a52d7e6ab",
   "metadata": {},
   "outputs": [
    {
     "data": {
      "text/plain": [
       "array([<Axes: ylabel='wage_eur_mln'>, <Axes: ylabel='value_eur_mln'>],\n",
       "      dtype=object)"
      ]
     },
     "execution_count": 552,
     "metadata": {},
     "output_type": "execute_result"
    },
    {
     "data": {
      "image/png": "[encoded data removed]",
      "text/plain": [
       "<Figure size 1500x800 with 2 Axes>"
      ]
     },
     "metadata": {},
     "output_type": "display_data"
    }
   ],
   "source": [
    "pie_data.plot(\n",
    "    kind = \"pie\",\n",
    "    subplots = True,\n",
    "    figsize = (15,8),\n",
    "    autopct='%1.1f%%',\n",
    "    title = \"leagues shares in total branch salaries and values\"\n",
    ")"
   ]
  },
  {
   "cell_type": "code",
   "execution_count": null,
   "id": "7a17dfd8-0ff6-4c77-acef-dad1ed14a0d4",
   "metadata": {},
   "outputs": [],
   "source": []
  }
 ],
 "metadata": {
  "kernelspec": {
   "display_name": "Python [conda env:base] *",
   "language": "python",
   "name": "conda-base-py"
  },
  "language_info": {
   "codemirror_mode": {
    "name": "ipython",
    "version": 3
   },
   "file_extension": ".py",
   "mimetype": "text/x-python",
   "name": "python",
   "nbconvert_exporter": "python",
   "pygments_lexer": "ipython3",
   "version": "3.12.7"
  }
 },
 "nbformat": 4,
 "nbformat_minor": 5
}
